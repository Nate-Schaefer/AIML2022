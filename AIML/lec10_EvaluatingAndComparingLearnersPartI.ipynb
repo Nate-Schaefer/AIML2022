{
 "cells": [
  {
   "cell_type": "markdown",
   "metadata": {},
   "source": [
    "Before you turn this problem in, make sure everything runs as expected. First, **restart the kernel** (in the menubar, select Kernel$\\rightarrow$Restart) and then **run all cells** (in the menubar, select Cell$\\rightarrow$Run All).\n",
    "\n",
    "Make sure you fill in any place that says `YOUR CODE HERE` or \"YOUR ANSWER HERE\", as well as your name and collaborators below:"
   ]
  },
  {
   "cell_type": "code",
   "execution_count": null,
   "metadata": {},
   "outputs": [],
   "source": [
    "NAME = \"Nate Schaefer\"\n",
    "COLLABORATORS = \"Nick Hageman\""
   ]
  },
  {
   "cell_type": "markdown",
   "metadata": {},
   "source": [
    "---"
   ]
  },
  {
   "cell_type": "markdown",
   "metadata": {},
   "source": [
    "# Evaluating and Comparing Learners (Part I)"
   ]
  },
  {
   "cell_type": "code",
   "execution_count": 1,
   "metadata": {},
   "outputs": [],
   "source": [
    "# imports\n",
    "%matplotlib inline\n",
    "import numpy as np\n",
    "import matplotlib.pyplot as plt\n",
    "import matplotlib as mpl\n",
    "import pandas as pd\n",
    "import seaborn as sns\n",
    "from sklearn import (datasets, neighbors,\n",
    "                     model_selection as skms,\n",
    "                     linear_model, metrics)\n",
    "#import ipywidgets as widgets\n",
    "#from ipywidgets import interact"
   ]
  },
  {
   "cell_type": "markdown",
   "metadata": {},
   "source": [
    "## Example use of a validation set\n",
    "\n",
    "Below we load a sklearn dataset (either the diabetes dataset or the boston dataset) and call skms.train_test_split twice in order to obtain train, validation, and test sets with a 50%/25%/25% split. Note that in the second call to skms.train_test_split, we specified 33% for the test_size parameter in order for the validation set size to be equivalent to 25% of the overall dataset. In other words, since we want 25% of the samples (0.25)(overall), we need to determine the proprotion of the remaining 75% to extract:\n",
    "\n",
    "25% of entire dataset = x% of 75% of entire dataset\n",
    "\n",
    "(0.25)(all) = x(.75)(all)\n",
    "\n",
    "(0.25) = x(.75)\n",
    "\n",
    "--> x = 0.25/0.75 = 1/3 = .33\n",
    "\n",
    "We also display the resulting proportions to make sure they are correct."
   ]
  },
  {
   "cell_type": "code",
   "execution_count": 27,
   "metadata": {},
   "outputs": [
    {
     "name": "stdout",
     "output_type": "stream",
     "text": [
      "Train: 0.50\n",
      "Validation: 0.25\n",
      "Test: 0.25\n"
     ]
    }
   ],
   "source": [
    "# obtain dataset\n",
    "dataset_name = 'diabetes'\n",
    "#dataset_name = 'boston'\n",
    "\n",
    "if (dataset_name == 'boston'):\n",
    "    dataset = datasets.load_boston()\n",
    "else:    \n",
    "    dataset = datasets.load_diabetes()\n",
    "\n",
    "# separate test dataset from training/validation sets\n",
    "(train_plus_validation_ftrs, \n",
    " test_ftrs,\n",
    " train_plus_validation_tgt, \n",
    " test_tgt) = skms.train_test_split(dataset.data,\n",
    "                                   dataset.target,\n",
    "                                   test_size=.25)\n",
    "\n",
    "# separate training/validation sets\n",
    "(train_ftrs,\n",
    " validation_ftrs,\n",
    " train_tgt,\n",
    " validation_tgt) = skms.train_test_split(train_plus_validation_ftrs,\n",
    "                                         train_plus_validation_tgt,\n",
    "                                         test_size=.33)\n",
    "\n",
    "# display overall proportions\n",
    "print(f'Train: {len(train_tgt)/len(dataset.target):.2f}')\n",
    "print(f'Validation: {len(validation_tgt)/len(dataset.target):.2f}')\n",
    "print(f'Test: {len(test_tgt)/len(dataset.target):.2f}')\n"
   ]
  },
  {
   "cell_type": "markdown",
   "metadata": {},
   "source": [
    "Below we specify a dictionary of regression models to try (linear regression, plus k-NN regression with different values for k) and apply them to the data in the validation set (after training on the training set) in order to determine the model with the lowest RMSE. "
   ]
  },
  {
   "cell_type": "code",
   "execution_count": 28,
   "metadata": {},
   "outputs": [
    {
     "name": "stdout",
     "output_type": "stream",
     "text": [
      "lr RMSE: 58.61\n",
      "1-NN RMSE: 77.99\n",
      "3-NN RMSE: 64.92\n",
      "5-NN RMSE: 61.81\n",
      "7-NN RMSE: 59.89\n",
      "9-NN RMSE: 59.94\n",
      "11-NN RMSE: 59.67\n",
      "13-NN RMSE: 60.13\n",
      "15-NN RMSE: 60.11\n",
      "Best model:  lr\n"
     ]
    }
   ],
   "source": [
    "# try different models and evaluate on validation set\n",
    "models_to_try = {'lr': linear_model.LinearRegression(), \n",
    "                 '1-NN': neighbors.KNeighborsRegressor(n_neighbors=1),\n",
    "                 '3-NN': neighbors.KNeighborsRegressor(n_neighbors=3),\n",
    "                 '5-NN': neighbors.KNeighborsRegressor(n_neighbors=5),\n",
    "                 '7-NN': neighbors.KNeighborsRegressor(n_neighbors=7),\n",
    "                 '9-NN': neighbors.KNeighborsRegressor(n_neighbors=9),\n",
    "                 '11-NN': neighbors.KNeighborsRegressor(n_neighbors=11),\n",
    "                 '13-NN': neighbors.KNeighborsRegressor(n_neighbors=13),\n",
    "                 '15-NN': neighbors.KNeighborsRegressor(n_neighbors=15)}\n",
    "\n",
    "errors = {}\n",
    "for model_name in models_to_try:\n",
    "    fit = models_to_try[model_name].fit(train_ftrs, train_tgt)\n",
    "    predictions = fit.predict(validation_ftrs)\n",
    "    rmse = np.sqrt(metrics.mean_squared_error(validation_tgt,\n",
    "                                              predictions))\n",
    "    print(f'{model_name} RMSE: {rmse:.2f}')\n",
    "    errors[model_name] = rmse  \n",
    "    \n",
    "# get model with minimum rmse error\n",
    "best_model_name = min(errors, key=errors.get)  # uses dict.get function to sort -- on keys\n",
    "print('Best model: ', best_model_name)\n",
    "best_model = models_to_try[best_model_name]"
   ]
  },
  {
   "cell_type": "markdown",
   "metadata": {},
   "source": [
    "After determining our \"best\" model above, we apply this model (after training on the data in the training set) to the data in the test set to get the final RMSE."
   ]
  },
  {
   "cell_type": "code",
   "execution_count": 29,
   "metadata": {},
   "outputs": [
    {
     "name": "stdout",
     "output_type": "stream",
     "text": [
      "lr RMSE: 55.37\n"
     ]
    }
   ],
   "source": [
    "# evaluate 'best' model on withheld test set\n",
    "fit = best_model.fit(train_ftrs, train_tgt)\n",
    "predictions = fit.predict(test_ftrs)\n",
    "rmse = np.sqrt(metrics.mean_squared_error(test_tgt,\n",
    "                                          predictions))\n",
    "print(f'{best_model_name} RMSE: {rmse:.2f}')"
   ]
  },
  {
   "cell_type": "markdown",
   "metadata": {},
   "source": [
    "## Example of overfitting/underfitting (from your textbook)\n",
    "\n",
    "The code in this section comes from chapter 5 of your textbook (with only a few extremely minor modifications) to illustrate the concepts of overfitting and underfitting through the use of polynomial models of different degrees. "
   ]
  },
  {
   "cell_type": "code",
   "execution_count": 30,
   "metadata": {},
   "outputs": [
    {
     "data": {
      "text/html": [
       "<div>\n",
       "<style scoped>\n",
       "    .dataframe tbody tr th:only-of-type {\n",
       "        vertical-align: middle;\n",
       "    }\n",
       "\n",
       "    .dataframe tbody tr th {\n",
       "        vertical-align: top;\n",
       "    }\n",
       "\n",
       "    .dataframe thead th {\n",
       "        text-align: right;\n",
       "    }\n",
       "</style>\n",
       "<table border=\"1\" class=\"dataframe\">\n",
       "  <thead>\n",
       "    <tr style=\"text-align: right;\">\n",
       "      <th></th>\n",
       "      <th>0</th>\n",
       "      <th>1</th>\n",
       "      <th>2</th>\n",
       "      <th>3</th>\n",
       "      <th>4</th>\n",
       "      <th>5</th>\n",
       "      <th>6</th>\n",
       "      <th>7</th>\n",
       "      <th>8</th>\n",
       "      <th>9</th>\n",
       "    </tr>\n",
       "  </thead>\n",
       "  <tbody>\n",
       "    <tr>\n",
       "      <th>ftr</th>\n",
       "      <td>3.684211</td>\n",
       "      <td>-7.894737</td>\n",
       "      <td>-1.578947</td>\n",
       "      <td>-8.947368</td>\n",
       "      <td>4.736842</td>\n",
       "      <td>-3.684211</td>\n",
       "      <td>2.631579</td>\n",
       "      <td>-0.526316</td>\n",
       "      <td>1.578947</td>\n",
       "      <td>8.947368</td>\n",
       "    </tr>\n",
       "    <tr>\n",
       "      <th>tgt</th>\n",
       "      <td>25.996992</td>\n",
       "      <td>121.655167</td>\n",
       "      <td>0.293290</td>\n",
       "      <td>157.137260</td>\n",
       "      <td>40.913545</td>\n",
       "      <td>23.342603</td>\n",
       "      <td>10.287672</td>\n",
       "      <td>-0.711326</td>\n",
       "      <td>0.274195</td>\n",
       "      <td>157.811120</td>\n",
       "    </tr>\n",
       "  </tbody>\n",
       "</table>\n",
       "</div>"
      ],
      "text/plain": [
       "             0           1         2           3          4          5  \\\n",
       "ftr   3.684211   -7.894737 -1.578947   -8.947368   4.736842  -3.684211   \n",
       "tgt  25.996992  121.655167  0.293290  157.137260  40.913545  23.342603   \n",
       "\n",
       "             6         7         8           9  \n",
       "ftr   2.631579 -0.526316  1.578947    8.947368  \n",
       "tgt  10.287672 -0.711326  0.274195  157.811120  "
      ]
     },
     "metadata": {},
     "output_type": "display_data"
    },
    {
     "data": {
      "image/png": "[encoded data removed]",
      "text/plain": [
       "<Figure size 432x288 with 1 Axes>"
      ]
     },
     "metadata": {
      "needs_background": "light"
     },
     "output_type": "display_data"
    }
   ],
   "source": [
    "# set up train/test data\n",
    "N = 20\n",
    "ftr = np.linspace(-10, 10, num=N)                # ftr values\n",
    "tgt = 2*ftr**2 - 3 + np.random.uniform(-2, 2, N) # tgt = func(ftr)\n",
    "\n",
    "(train_ftr, test_ftr,\n",
    " train_tgt, test_tgt) = skms.train_test_split(ftr, tgt, test_size=N//2)\n",
    "\n",
    "display(pd.DataFrame({\"ftr\":train_ftr, \n",
    "                      \"tgt\":train_tgt}).T)\n",
    "\n",
    "plt.plot(train_ftr, train_tgt, 'bo')\n",
    "plt.plot(test_ftr,  np.zeros_like(test_ftr), 'r+');"
   ]
  },
  {
   "cell_type": "markdown",
   "metadata": {},
   "source": [
    "Below, we show how using sklearn's linear regression model with a single feature is equivalent to fitting a line to the data using np.polyfit (with a degree of 1)."
   ]
  },
  {
   "cell_type": "code",
   "execution_count": 31,
   "metadata": {},
   "outputs": [
    {
     "name": "stdout",
     "output_type": "stream",
     "text": [
      "[59.63020811 34.92122341 52.2175127 ]\n",
      "[59.63020811 34.92122341 52.2175127 ]\n",
      "all close? True\n",
      "RMSE: 77.48\n"
     ]
    }
   ],
   "source": [
    "# note: sklearn *really* wants 2D inputs (a table)\n",
    "# so we use rehape here.\n",
    "sk_model = linear_model.LinearRegression()\n",
    "sk_model.fit(train_ftr.reshape(-1,1), train_tgt)\n",
    "sk_preds = sk_model.predict(test_ftr.reshape(-1,1))\n",
    "print(sk_preds[:3])\n",
    "\n",
    "# fit predict evaluate a 1-D polynomial (a line)\n",
    "#help(np.polyfit)\n",
    "model_one = np.poly1d(np.polyfit(train_ftr, train_tgt, 1))\n",
    "preds_one = model_one(test_ftr)\n",
    "print(preds_one[:3])\n",
    "\n",
    "# the predictions come back the same\n",
    "print(\"all close?\", np.allclose(sk_preds, preds_one))\n",
    "\n",
    "# and we can still use sklearn to evaluate it\n",
    "mse = metrics.mean_squared_error\n",
    "print(f'RMSE: {np.sqrt(mse(test_tgt, preds_one)):.2f}')"
   ]
  },
  {
   "cell_type": "markdown",
   "metadata": {},
   "source": [
    "Below we fit a polynomial with degree=2 (a parabola) to the training data and then evaluate the fit on the test data."
   ]
  },
  {
   "cell_type": "code",
   "execution_count": 32,
   "metadata": {},
   "outputs": [
    {
     "name": "stdout",
     "output_type": "stream",
     "text": [
      "RMSE: 1.14\n"
     ]
    }
   ],
   "source": [
    "# fit predict evaluate a 2-D polynomial (a parabola)\n",
    "model_two = np.poly1d(np.polyfit(train_ftr, train_tgt, 2))\n",
    "preds_two = model_two(test_ftr)\n",
    "print(f'RMSE: {np.sqrt(mse(test_tgt, preds_two)):.2f}')"
   ]
  },
  {
   "cell_type": "markdown",
   "metadata": {},
   "source": [
    "Below we fit a polynomial with degree=9 to the training test and then evaluate the fit on the test data. "
   ]
  },
  {
   "cell_type": "code",
   "execution_count": 33,
   "metadata": {},
   "outputs": [
    {
     "name": "stdout",
     "output_type": "stream",
     "text": [
      "RMSE: 249.79\n"
     ]
    }
   ],
   "source": [
    "model_three = np.poly1d(np.polyfit(train_ftr, train_tgt, 9))\n",
    "preds_three = model_three(test_ftr)\n",
    "print(f'RMSE: {np.sqrt(mse(test_tgt, preds_three)):.2f}')"
   ]
  },
  {
   "cell_type": "markdown",
   "metadata": {},
   "source": [
    "Below we plot the polynomial fits above on the training data and testing data (as in the book). We also show the polynomials themselves using a more-refined grid as an extra plot. "
   ]
  },
  {
   "cell_type": "code",
   "execution_count": 34,
   "metadata": {},
   "outputs": [
    {
     "data": {
      "image/png": "[encoded data removed]",
      "text/plain": [
       "<Figure size 648x216 with 3 Axes>"
      ]
     },
     "metadata": {
      "needs_background": "light"
     },
     "output_type": "display_data"
    }
   ],
   "source": [
    "fig, axes = plt.subplots(1,3, figsize=(9,3), sharey=True)\n",
    "\n",
    "labels = ['line', 'parabola', 'nonic']\n",
    "models = [model_one, model_two, model_three]\n",
    "train = (train_ftr, train_tgt)\n",
    "test  = (test_ftr, test_tgt)\n",
    "\n",
    "# plot the polynomial fits on the training data and testing \n",
    "# data (as in the book)\n",
    "for ax, (ftr, tgt) in zip(axes[0:2], [train, test]):\n",
    "    ax.plot(ftr, tgt, 'k+')\n",
    "    for m, lbl in zip(models, labels):\n",
    "        ftr = sorted(ftr)\n",
    "        ax.plot(ftr, m(ftr), '-', label=lbl)\n",
    "        \n",
    "# also plot the polynomials themselves\n",
    "ax = axes[2]\n",
    "x = np.linspace(-10,10,1000)\n",
    "for m, lbl in zip(models, labels):\n",
    "    ax.plot(x,m(x),'-',label=lbl)\n",
    "    \n",
    "\n",
    "axes[1].set_ylim(-20, 200)\n",
    "axes[0].set_title(\"Train\")\n",
    "axes[1].set_title(\"Test\");\n",
    "axes[2].set_title(\"Polynomials\")\n",
    "axes[0].legend(loc='upper center');\n",
    "axes[1].legend(loc='upper center');\n",
    "axes[2].legend(loc='upper center');"
   ]
  },
  {
   "cell_type": "markdown",
   "metadata": {},
   "source": [
    "Below, we plot both the training error and testing error as a function of \"complexity\" of the polynomial fit (where complexity here is the degree of the polynomial). "
   ]
  },
  {
   "cell_type": "code",
   "execution_count": 35,
   "metadata": {},
   "outputs": [
    {
     "data": {
      "text/html": [
       "<div>\n",
       "<style scoped>\n",
       "    .dataframe tbody tr th:only-of-type {\n",
       "        vertical-align: middle;\n",
       "    }\n",
       "\n",
       "    .dataframe tbody tr th {\n",
       "        vertical-align: top;\n",
       "    }\n",
       "\n",
       "    .dataframe thead th {\n",
       "        text-align: right;\n",
       "    }\n",
       "</style>\n",
       "<table border=\"1\" class=\"dataframe\">\n",
       "  <thead>\n",
       "    <tr style=\"text-align: right;\">\n",
       "      <th></th>\n",
       "      <th>Train Error</th>\n",
       "      <th>Test Error</th>\n",
       "    </tr>\n",
       "    <tr>\n",
       "      <th>Complexity</th>\n",
       "      <th></th>\n",
       "      <th></th>\n",
       "    </tr>\n",
       "  </thead>\n",
       "  <tbody>\n",
       "    <tr>\n",
       "      <th>1</th>\n",
       "      <td>6.082370e+01</td>\n",
       "      <td>77.477805</td>\n",
       "    </tr>\n",
       "    <tr>\n",
       "      <th>2</th>\n",
       "      <td>1.151698e+00</td>\n",
       "      <td>1.144319</td>\n",
       "    </tr>\n",
       "    <tr>\n",
       "      <th>6</th>\n",
       "      <td>1.140426e+00</td>\n",
       "      <td>1.202440</td>\n",
       "    </tr>\n",
       "    <tr>\n",
       "      <th>9</th>\n",
       "      <td>1.082445e-12</td>\n",
       "      <td>249.785248</td>\n",
       "    </tr>\n",
       "  </tbody>\n",
       "</table>\n",
       "</div>"
      ],
      "text/plain": [
       "             Train Error  Test Error\n",
       "Complexity                          \n",
       "1           6.082370e+01   77.477805\n",
       "2           1.151698e+00    1.144319\n",
       "6           1.140426e+00    1.202440\n",
       "9           1.082445e-12  249.785248"
      ]
     },
     "metadata": {},
     "output_type": "display_data"
    },
    {
     "data": {
      "image/png": "[encoded data removed]",
      "text/plain": [
       "<Figure size 432x288 with 1 Axes>"
      ]
     },
     "metadata": {
      "needs_background": "light"
     },
     "output_type": "display_data"
    }
   ],
   "source": [
    "results = []\n",
    "for complexity in [1,2,6,9]:\n",
    "    model = np.poly1d(np.polyfit(train_ftr, train_tgt, complexity))\n",
    "    train_error = np.sqrt(mse(train_tgt, model(train_ftr)))\n",
    "    test_error = np.sqrt(mse(test_tgt, model(test_ftr)))\n",
    "    results.append((complexity, train_error, test_error))\n",
    "   \n",
    "columns = [\"Complexity\", \"Train Error\", \"Test Error\"]\n",
    "results_df = pd.DataFrame.from_records(results, \n",
    "                                       columns=columns,\n",
    "                                       index=\"Complexity\")\n",
    "\n",
    "display(results_df)\n",
    "\n",
    "results_df.plot();"
   ]
  },
  {
   "cell_type": "markdown",
   "metadata": {},
   "source": [
    "## Assignment"
   ]
  },
  {
   "cell_type": "markdown",
   "metadata": {},
   "source": [
    "In this assignment, you will practice using a separate validation set to select the best model (from at least five choices) for the regression task of predicting the number of wins of college football teams using features available from the 2019 College Football dataset. In the cell below, we obtain this dataset and reduce the number of features. However, unlike in prior notebooks, in this case, we add some additional features (just in case you would like to explore using different sets of features as part of your models). You do NOT need to modify this cell. However, if you would like, you may choose to use an entirely different set of features that you think would be potentially more predictive (however, try to avoid selecting features based on rankings or other features that would mostly be meaningful towards the end of the season). "
   ]
  },
  {
   "cell_type": "code",
   "execution_count": 36,
   "metadata": {},
   "outputs": [
    {
     "data": {
      "text/html": [
       "<div>\n",
       "<style scoped>\n",
       "    .dataframe tbody tr th:only-of-type {\n",
       "        vertical-align: middle;\n",
       "    }\n",
       "\n",
       "    .dataframe tbody tr th {\n",
       "        vertical-align: top;\n",
       "    }\n",
       "\n",
       "    .dataframe thead th {\n",
       "        text-align: right;\n",
       "    }\n",
       "</style>\n",
       "<table border=\"1\" class=\"dataframe\">\n",
       "  <thead>\n",
       "    <tr style=\"text-align: right;\">\n",
       "      <th></th>\n",
       "      <th>Rushing Yards per Game</th>\n",
       "      <th>Rush Yards Per Game Allowed</th>\n",
       "      <th>Pass Yards Per Game</th>\n",
       "      <th>Pass Yards Per Game Allowed</th>\n",
       "      <th>Points Per Game</th>\n",
       "      <th>Off Yards per Game</th>\n",
       "      <th>Yards Per Game Allowed</th>\n",
       "      <th>First Downs</th>\n",
       "      <th>Redzone Attempts</th>\n",
       "      <th>Wins</th>\n",
       "    </tr>\n",
       "    <tr>\n",
       "      <th>Team</th>\n",
       "      <th></th>\n",
       "      <th></th>\n",
       "      <th></th>\n",
       "      <th></th>\n",
       "      <th></th>\n",
       "      <th></th>\n",
       "      <th></th>\n",
       "      <th></th>\n",
       "      <th></th>\n",
       "      <th></th>\n",
       "    </tr>\n",
       "  </thead>\n",
       "  <tbody>\n",
       "    <tr>\n",
       "      <th>Air Force (Mountain West)</th>\n",
       "      <td>298.5</td>\n",
       "      <td>100.5</td>\n",
       "      <td>123.2</td>\n",
       "      <td>219.1</td>\n",
       "      <td>34.1</td>\n",
       "      <td>421.8</td>\n",
       "      <td>319.6</td>\n",
       "      <td>286</td>\n",
       "      <td>54</td>\n",
       "      <td>11</td>\n",
       "    </tr>\n",
       "    <tr>\n",
       "      <th>Akron (MAC)</th>\n",
       "      <td>47.6</td>\n",
       "      <td>213.5</td>\n",
       "      <td>195.6</td>\n",
       "      <td>200.4</td>\n",
       "      <td>10.5</td>\n",
       "      <td>243.2</td>\n",
       "      <td>413.9</td>\n",
       "      <td>155</td>\n",
       "      <td>26</td>\n",
       "      <td>0</td>\n",
       "    </tr>\n",
       "    <tr>\n",
       "      <th>Alabama (SEC)</th>\n",
       "      <td>168.5</td>\n",
       "      <td>137.2</td>\n",
       "      <td>342.2</td>\n",
       "      <td>187.2</td>\n",
       "      <td>47.2</td>\n",
       "      <td>510.8</td>\n",
       "      <td>324.5</td>\n",
       "      <td>318</td>\n",
       "      <td>62</td>\n",
       "      <td>11</td>\n",
       "    </tr>\n",
       "    <tr>\n",
       "      <th>Appalachian St. (Sun Belt)</th>\n",
       "      <td>231.4</td>\n",
       "      <td>129.4</td>\n",
       "      <td>201.7</td>\n",
       "      <td>206.7</td>\n",
       "      <td>38.8</td>\n",
       "      <td>433.1</td>\n",
       "      <td>336.1</td>\n",
       "      <td>295</td>\n",
       "      <td>60</td>\n",
       "      <td>13</td>\n",
       "    </tr>\n",
       "    <tr>\n",
       "      <th>Arizona (Pac-12)</th>\n",
       "      <td>174.0</td>\n",
       "      <td>181.6</td>\n",
       "      <td>266.1</td>\n",
       "      <td>289.8</td>\n",
       "      <td>26.9</td>\n",
       "      <td>440.1</td>\n",
       "      <td>471.4</td>\n",
       "      <td>270</td>\n",
       "      <td>35</td>\n",
       "      <td>4</td>\n",
       "    </tr>\n",
       "  </tbody>\n",
       "</table>\n",
       "</div>"
      ],
      "text/plain": [
       "                            Rushing Yards per Game  \\\n",
       "Team                                                 \n",
       "Air Force (Mountain West)                    298.5   \n",
       "Akron (MAC)                                   47.6   \n",
       "Alabama (SEC)                                168.5   \n",
       "Appalachian St. (Sun Belt)                   231.4   \n",
       "Arizona (Pac-12)                             174.0   \n",
       "\n",
       "                            Rush Yards Per Game Allowed  Pass Yards Per Game  \\\n",
       "Team                                                                           \n",
       "Air Force (Mountain West)                         100.5                123.2   \n",
       "Akron (MAC)                                       213.5                195.6   \n",
       "Alabama (SEC)                                     137.2                342.2   \n",
       "Appalachian St. (Sun Belt)                        129.4                201.7   \n",
       "Arizona (Pac-12)                                  181.6                266.1   \n",
       "\n",
       "                            Pass Yards Per Game Allowed  Points Per Game  \\\n",
       "Team                                                                       \n",
       "Air Force (Mountain West)                         219.1             34.1   \n",
       "Akron (MAC)                                       200.4             10.5   \n",
       "Alabama (SEC)                                     187.2             47.2   \n",
       "Appalachian St. (Sun Belt)                        206.7             38.8   \n",
       "Arizona (Pac-12)                                  289.8             26.9   \n",
       "\n",
       "                            Off Yards per Game  Yards Per Game Allowed  \\\n",
       "Team                                                                     \n",
       "Air Force (Mountain West)                421.8                   319.6   \n",
       "Akron (MAC)                              243.2                   413.9   \n",
       "Alabama (SEC)                            510.8                   324.5   \n",
       "Appalachian St. (Sun Belt)               433.1                   336.1   \n",
       "Arizona (Pac-12)                         440.1                   471.4   \n",
       "\n",
       "                            First Downs  Redzone Attempts  Wins  \n",
       "Team                                                             \n",
       "Air Force (Mountain West)           286                54    11  \n",
       "Akron (MAC)                         155                26     0  \n",
       "Alabama (SEC)                       318                62    11  \n",
       "Appalachian St. (Sun Belt)          295                60    13  \n",
       "Arizona (Pac-12)                    270                35     4  "
      ]
     },
     "metadata": {},
     "output_type": "display_data"
    }
   ],
   "source": [
    "# load 2019 College Football dataset and extract desired information\n",
    "cfb_orig_df = pd.read_csv(\"CFB2019.csv\")\n",
    "# extract bowl eligibility from the Wins-Loss column\n",
    "# first separate Win-Loss into 2D array of Win and Loss strings\n",
    "w_l = np.array([w_l_str.split('-') for w_l_str in cfb_orig_df['Win-Loss']])\n",
    "# extract first column as wins (and convert to integers)\n",
    "wins = w_l[:,0].astype(int)\n",
    "\n",
    "# display candidate features (in case you want to pick a different set)\n",
    "#for f in cfb_orig_df.columns:\n",
    "#    print(f)\n",
    "    \n",
    "# extract some of the existing columns as a starting point for our smaller dataset\n",
    "cfb_df = cfb_orig_df[['Rushing Yards per Game',\n",
    "                      'Rush Yards Per Game Allowed',\n",
    "                      'Pass Yards Per Game',\n",
    "                      'Pass Yards Per Game Allowed',\n",
    "                      'Points Per Game',\n",
    "                      'Off Yards per Game',\n",
    "                      'Yards Per Game Allowed',\n",
    "                      'First Downs',\n",
    "                      'Redzone Attempts']].copy()\n",
    "\n",
    "# add the wins column\n",
    "cfb_df['Wins'] = wins\n",
    "# make the team column the index labels\n",
    "cfb_df.index = cfb_orig_df['Team']\n",
    "\n",
    "# display first five rows\n",
    "display(cfb_df.head())"
   ]
  },
  {
   "cell_type": "markdown",
   "metadata": {},
   "source": [
    "### Part I\n",
    "Call skms.train_test_split twice to divide the dataset up into a training set (60% of the entire dataset), a validation set (20% of the entire dataset), and a test set (20% of the entire dataset). Take care in selecting your test_size parameters as once you split the dataset the first time you will no longer be working with the entire dataset once you split part of it a second time. Also, once you have divided the dataset into train/validation/test sets, compute/display the overall proportions of the number of samples of each set relative to the number of samples in the entire dataset to ensure you indeed have a 60%/20%/20% split (hint: see comments and code in first example).  "
   ]
  },
  {
   "cell_type": "code",
   "execution_count": 40,
   "metadata": {
    "deletable": false,
    "nbgrader": {
     "checksum": "2f6ded2b5732c2b374012fd83ab80c08",
     "grade": true,
     "grade_id": "cell-7c6a3d97cd6eec56",
     "locked": false,
     "points": 4,
     "schema_version": 1,
     "solution": true
    }
   },
   "outputs": [
    {
     "name": "stdout",
     "output_type": "stream",
     "text": [
      "Train: 0.18\n",
      "Validation: 0.06\n",
      "Test: 0.06\n"
     ]
    }
   ],
   "source": [
    "\n",
    "cfb_target = cfb_df['Wins']\n",
    "\n",
    "cfb_features = cfb_df.drop(['Wins'],axis=1)\n",
    "\n",
    "\n",
    "\n",
    "(train_plus_validation_ftrs, \n",
    " test_ftrs,\n",
    " train_plus_validation_tgt, \n",
    " test_tgt) = skms.train_test_split(cfb_features,\n",
    "                                   cfb_target,\n",
    "                                   test_size=.20)\n",
    "\n",
    "\n",
    "(train_ftrs,\n",
    " validation_ftrs,\n",
    " train_tgt,\n",
    " validation_tgt) = skms.train_test_split(train_plus_validation_ftrs,\n",
    "                                         train_plus_validation_tgt,\n",
    "                                         test_size=.25)\n",
    "\n",
    "\n",
    "print(f'Train: {len(train_tgt)/len(dataset.target):.2f}')\n",
    "print(f'Validation: {len(validation_tgt)/len(dataset.target):.2f}')\n",
    "print(f'Test: {len(test_tgt)/len(dataset.target):.2f}')"
   ]
  },
  {
   "cell_type": "markdown",
   "metadata": {},
   "source": [
    "### Part II\n",
    "Using at least five regression models of your choice (e.g., linear regression plus k-NN regression with differing values of k; alternatively, you could try linear regression, or k-NN regression, with differing numbers of features to be included in the model), evaluate the model (using RMSE) on BOTH the training set and on the validation set from part I (in other words, while you will train using the training data, for each model, you will compute one RMSE value for the training set and one RMSE value for the validation set). (Note that in the first example above in the notebook, we had only evaluated on the validation set. Here, I want you to also evaluate on the training set as welll so that you can get an idea if your model is underfitting or overfitting. If both errors are high, the model is likely underfitting. If the training error is low, but the validation error is high, the model is likely overfitting.) Save the model with the lowest RMSE error on the validation set. "
   ]
  },
  {
   "cell_type": "code",
   "execution_count": 43,
   "metadata": {
    "deletable": false,
    "nbgrader": {
     "checksum": "f77e8f52c077088a1357bf74fdb03e6d",
     "grade": true,
     "grade_id": "cell-c15c6e5f664de809",
     "locked": false,
     "points": 4,
     "schema_version": 1,
     "solution": true
    }
   },
   "outputs": [
    {
     "name": "stdout",
     "output_type": "stream",
     "text": [
      "lr RMSE: 1.47\n",
      "1-NN RMSE: 1.81\n",
      "3-NN RMSE: 1.90\n",
      "5-NN RMSE: 1.78\n",
      "7-NN RMSE: 1.88\n",
      "Best model:  lr\n"
     ]
    }
   ],
   "source": [
    "models_to_try = {'lr': linear_model.LinearRegression(), \n",
    "                 '1-NN': neighbors.KNeighborsRegressor(n_neighbors=1),\n",
    "                 '3-NN': neighbors.KNeighborsRegressor(n_neighbors=3),\n",
    "                 '5-NN': neighbors.KNeighborsRegressor(n_neighbors=5),\n",
    "                 '7-NN': neighbors.KNeighborsRegressor(n_neighbors=7),}\n",
    "\n",
    "errors = {}\n",
    "for model_name in models_to_try:\n",
    "    fit = models_to_try[model_name].fit(train_ftrs, train_tgt)\n",
    "    predictions = fit.predict(validation_ftrs)\n",
    "    rmse = np.sqrt(metrics.mean_squared_error(validation_tgt,\n",
    "                                              predictions))\n",
    "    print(f'{model_name} RMSE: {rmse:.2f}')\n",
    "    errors[model_name] = rmse  \n",
    "    \n",
    "# get model with minimum rmse error\n",
    "best_model_name = min(errors, key=errors.get)  # uses dict.get function to sort -- on keys\n",
    "print('Best model: ', best_model_name)\n",
    "best_model = models_to_try[best_model_name]"
   ]
  },
  {
   "cell_type": "markdown",
   "metadata": {},
   "source": [
    "### Part III\n",
    "\n",
    "Evaluate (by computing/displaying the RMSE) of your saved \"best\" model from Part II above on your withheld test set. (Note: you likely will need to retrain the model on the training set if you didn't save the fitted models above.)"
   ]
  },
  {
   "cell_type": "code",
   "execution_count": 44,
   "metadata": {
    "deletable": false,
    "nbgrader": {
     "checksum": "a3896a72c99799f7e4c08ed007301f6e",
     "grade": true,
     "grade_id": "cell-f1bb4624df8e5ae7",
     "locked": false,
     "points": 2,
     "schema_version": 1,
     "solution": true
    }
   },
   "outputs": [
    {
     "name": "stdout",
     "output_type": "stream",
     "text": [
      "lr RMSE: 1.61\n"
     ]
    }
   ],
   "source": [
    "# evaluate 'best' model on withheld test set\n",
    "fit = best_model.fit(train_ftrs, train_tgt)\n",
    "predictions = fit.predict(test_ftrs)\n",
    "rmse = np.sqrt(metrics.mean_squared_error(test_tgt,\n",
    "                                          predictions))\n",
    "print(f'{best_model_name} RMSE: {rmse:.2f}')"
   ]
  },
  {
   "cell_type": "code",
   "execution_count": null,
   "metadata": {},
   "outputs": [],
   "source": []
  }
 ],
 "metadata": {
  "kernelspec": {
   "display_name": "Python 3",
   "language": "python",
   "name": "python3"
  },
  "language_info": {
   "codemirror_mode": {
    "name": "ipython",
    "version": 3
   },
   "file_extension": ".py",
   "mimetype": "text/x-python",
   "name": "python",
   "nbconvert_exporter": "python",
   "pygments_lexer": "ipython3",
   "version": "3.9.7"
  }
 },
 "nbformat": 4,
 "nbformat_minor": 4
}
