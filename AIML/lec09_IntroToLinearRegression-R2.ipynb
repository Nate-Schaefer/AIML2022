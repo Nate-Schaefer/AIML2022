{
 "cells": [
  {
   "cell_type": "markdown",
   "metadata": {},
   "source": [
    "Before you turn this problem in, make sure everything runs as expected. First, **restart the kernel** (in the menubar, select Kernel$\\rightarrow$Restart) and then **run all cells** (in the menubar, select Cell$\\rightarrow$Run All).\n",
    "\n",
    "Make sure you fill in any place that says `YOUR CODE HERE` or \"YOUR ANSWER HERE\", as well as your name and collaborators below:"
   ]
  },
  {
   "cell_type": "code",
   "execution_count": 1,
   "metadata": {},
   "outputs": [],
   "source": [
    "NAME = \"Nate Schaefer\"\n",
    "COLLABORATORS = \"Nick Hageman\""
   ]
  },
  {
   "cell_type": "markdown",
   "metadata": {},
   "source": [
    "---"
   ]
  },
  {
   "cell_type": "markdown",
   "metadata": {},
   "source": [
    "# Introduction to Linear Regression\n",
    "\n",
    "Note: as for lec07, this notebook is best run if you have installed the JupyterLab extension for ipywidgets (anaconda already includes ipywidgets, but the extension to allow the interactivity within Jupyter Lab still needs to be installed). Installing the JupyterLab extension does require that a package called nodejs (not included by default with anaconda).\n",
    "\n",
    "\n",
    "Download and install from:\n",
    "https://nodejs.org/en\n",
    "\n",
    "For 2021, version 14.15.5 works.\n",
    "\n",
    "This installer will attempt to update your path, so you may want to start a new terminal (Mac), or login out/login/reboot in Windows.  See slides for more details.\n",
    "\n",
    "You can then install the labextension:\n",
    "\n",
    "jupyter labextension install @jupyter-widgets/jupyterlab-manager\n",
    "\n",
    "(Instructions for installation from: https://ipywidgets.readthedocs.io/en/latest/user_install.html)\n",
    "\n",
    "If you do attempt to install, and it does not work, you remove the widget with:\n",
    "\n",
    "jupyter lab clean\n",
    "\n",
    "juptery lab build\n",
    "\n",
    "If you haven't installed the JupyterLab extension for ipywidgets, the code should still work (as anaconda still includes the ipywidgets package), you just will not be able to use the interactive functionality (e.g., use of sliders to change parameter values). "
   ]
  },
  {
   "cell_type": "code",
   "execution_count": 1,
   "metadata": {},
   "outputs": [],
   "source": [
    "# imports\n",
    "%matplotlib inline\n",
    "import numpy as np\n",
    "import matplotlib.pyplot as plt\n",
    "import matplotlib as mpl\n",
    "import pandas as pd\n",
    "import seaborn as sns\n",
    "from sklearn import (datasets, neighbors,\n",
    "                     model_selection as skms,\n",
    "                     linear_model, metrics)\n",
    "import ipywidgets as widgets\n",
    "from ipywidgets import interact"
   ]
  },
  {
   "cell_type": "markdown",
   "metadata": {},
   "source": [
    "## Using sklearn's linear regression with either the diabetes dataset or the boston dataset \n",
    "\n",
    "In the cell below, we review sklearn's \"workflow\" for training/testing a linear regression model. We also provide the option (by changing the dataset_name variable) to use either the diabetes dataset (as used in the past and in your textbook) or the boston dataset. Below is more information about the target/features in each of these datasets from the sklearn documentation:\n",
    "\n",
    "#### Diabetes dataset\n",
    "Ten baseline variables, age, sex, body mass index, average blood pressure, and six blood serum measurements were obtained for each of n = 442 diabetes patients, as well as the response of interest, a quantitative measure of disease progression one year after baseline.\n",
    "\n",
    "Target in diabetes dataset: quantitative measure of disease progression one year after baseline\n",
    "\n",
    "Features in diabetes dataset:\n",
    "* Age\n",
    "* Sex\n",
    "* Body mass index\n",
    "* Average blood pressure\n",
    "* S1\n",
    "* S2\n",
    "* S3\n",
    "* S4\n",
    "* S5\n",
    "* S6\n",
    "\n",
    "\n",
    "#### Boston dataset\n",
    "Target in Boston dataset: Median value of owner-occupied homes in $1000’s\n",
    "\n",
    "Features in Boston dataset:\n",
    "* CRIM per capita crime rate by town\n",
    "* ZN proportion of residential land zoned for lots over 25,000 sq.ft.\n",
    "* INDUS proportion of non-retail business acres per town\n",
    "* CHAS Charles River dummy variable (= 1 if tract bounds river; 0 otherwise)\n",
    "* NOX nitric oxides concentration (parts per 10 million)\n",
    "* RM average number of rooms per dwelling\n",
    "* AGE proportion of owner-occupied units built prior to 1940\n",
    "* DIS weighted distances to five Boston employment centres\n",
    "* RAD index of accessibility to radial highways\n",
    "* TAX full-value property-tax rate per $10,000\n",
    "* PTRATIO pupil-teacher ratio by town\n",
    "* B 1000(Bk - 0.63)^2 where Bk is the proportion of blacks by town\n",
    "* LSTAT % lower status of the population"
   ]
  },
  {
   "cell_type": "code",
   "execution_count": 16,
   "metadata": {},
   "outputs": [
    {
     "name": "stdout",
     "output_type": "stream",
     "text": [
      "Model RMSE: 59.81\n"
     ]
    }
   ],
   "source": [
    "# obtain dataset\n",
    "dataset_name = 'diabetes'\n",
    "#dataset_name = 'boston'\n",
    "\n",
    "if (dataset_name == 'boston'):\n",
    "    dataset = datasets.load_boston()\n",
    "else:    \n",
    "    dataset = datasets.load_diabetes()\n",
    "\n",
    "# split into training/testing datasets (25% for testing)\n",
    "(train_ftrs, \n",
    " test_ftrs,\n",
    " train_tgt, \n",
    " test_tgt) = skms.train_test_split(dataset.data,\n",
    "                                   dataset.target,\n",
    "                                   test_size=.25)\n",
    "\n",
    "# also create training dataframe (for future use)\n",
    "train_df = pd.DataFrame(train_ftrs,\n",
    "                        columns = dataset.feature_names)\n",
    "train_df['target'] = train_tgt\n",
    "\n",
    "# define linear regression model \n",
    "model = linear_model.LinearRegression()\n",
    "\n",
    "# train the model\n",
    "fit = model.fit(train_ftrs, train_tgt)\n",
    "\n",
    "# apply trained model to test-set features\n",
    "predictions = fit.predict(test_ftrs)\n",
    "\n",
    "# evaluate regression approach with root mean square error\n",
    "score = np.sqrt(metrics.mean_squared_error(test_tgt,\n",
    "                                           predictions))\n",
    "print(f'Model RMSE: {score:0.2f}')"
   ]
  },
  {
   "cell_type": "markdown",
   "metadata": {},
   "source": [
    "## Examples of linear regression with a single feature (target = slope*feature_value + intercept)\n",
    "\n",
    "### Toy example\n",
    "\n",
    "Below we provide a \"toy\" (i.e., very small) dataset with one feature for which to fit a 1D linear regression model:\n",
    "\n",
    "$y = mx + b$\n",
    "\n",
    "where $y$ is each predicted target value, $x$ is each feature value, and $m$ and $b$ are to be determined during training such that the sum of the squared errors between the actual target values and the predicted target values are as small as possible."
   ]
  },
  {
   "cell_type": "code",
   "execution_count": 17,
   "metadata": {},
   "outputs": [
    {
     "name": "stdout",
     "output_type": "stream",
     "text": [
      "slope: 0.57\n",
      "intercept: 1.51\n"
     ]
    },
    {
     "data": {
      "image/png": "[encoded data removed]",
      "text/plain": [
       "<Figure size 432x288 with 1 Axes>"
      ]
     },
     "metadata": {
      "needs_background": "light"
     },
     "output_type": "display_data"
    },
    {
     "data": {
      "text/html": [
       "<div>\n",
       "<style scoped>\n",
       "    .dataframe tbody tr th:only-of-type {\n",
       "        vertical-align: middle;\n",
       "    }\n",
       "\n",
       "    .dataframe tbody tr th {\n",
       "        vertical-align: top;\n",
       "    }\n",
       "\n",
       "    .dataframe thead th {\n",
       "        text-align: right;\n",
       "    }\n",
       "</style>\n",
       "<table border=\"1\" class=\"dataframe\">\n",
       "  <thead>\n",
       "    <tr style=\"text-align: right;\">\n",
       "      <th></th>\n",
       "      <th>feature</th>\n",
       "      <th>target</th>\n",
       "      <th>prediction</th>\n",
       "      <th>dist</th>\n",
       "      <th>squared error</th>\n",
       "    </tr>\n",
       "  </thead>\n",
       "  <tbody>\n",
       "    <tr>\n",
       "      <th>0</th>\n",
       "      <td>7.3</td>\n",
       "      <td>7.0</td>\n",
       "      <td>5.653797</td>\n",
       "      <td>1.346203</td>\n",
       "      <td>1.812262</td>\n",
       "    </tr>\n",
       "    <tr>\n",
       "      <th>1</th>\n",
       "      <td>2.2</td>\n",
       "      <td>1.9</td>\n",
       "      <td>2.759752</td>\n",
       "      <td>0.859752</td>\n",
       "      <td>0.739173</td>\n",
       "    </tr>\n",
       "    <tr>\n",
       "      <th>2</th>\n",
       "      <td>4.5</td>\n",
       "      <td>2.8</td>\n",
       "      <td>4.064909</td>\n",
       "      <td>1.264909</td>\n",
       "      <td>1.599996</td>\n",
       "    </tr>\n",
       "    <tr>\n",
       "      <th>3</th>\n",
       "      <td>5.6</td>\n",
       "      <td>3.3</td>\n",
       "      <td>4.689115</td>\n",
       "      <td>1.389115</td>\n",
       "      <td>1.929641</td>\n",
       "    </tr>\n",
       "    <tr>\n",
       "      <th>4</th>\n",
       "      <td>0.1</td>\n",
       "      <td>3.1</td>\n",
       "      <td>1.568086</td>\n",
       "      <td>1.531914</td>\n",
       "      <td>2.346760</td>\n",
       "    </tr>\n",
       "    <tr>\n",
       "      <th>5</th>\n",
       "      <td>8.2</td>\n",
       "      <td>6.9</td>\n",
       "      <td>6.164511</td>\n",
       "      <td>0.735489</td>\n",
       "      <td>0.540944</td>\n",
       "    </tr>\n",
       "    <tr>\n",
       "      <th>6</th>\n",
       "      <td>6.5</td>\n",
       "      <td>5.1</td>\n",
       "      <td>5.199829</td>\n",
       "      <td>0.099829</td>\n",
       "      <td>0.009966</td>\n",
       "    </tr>\n",
       "  </tbody>\n",
       "</table>\n",
       "</div>"
      ],
      "text/plain": [
       "   feature  target  prediction      dist  squared error\n",
       "0      7.3     7.0    5.653797  1.346203       1.812262\n",
       "1      2.2     1.9    2.759752  0.859752       0.739173\n",
       "2      4.5     2.8    4.064909  1.264909       1.599996\n",
       "3      5.6     3.3    4.689115  1.389115       1.929641\n",
       "4      0.1     3.1    1.568086  1.531914       2.346760\n",
       "5      8.2     6.9    6.164511  0.735489       0.540944\n",
       "6      6.5     5.1    5.199829  0.099829       0.009966"
      ]
     },
     "metadata": {},
     "output_type": "display_data"
    },
    {
     "name": "stdout",
     "output_type": "stream",
     "text": [
      "SSE: 8.98\n",
      "RMSE: 1.13\n"
     ]
    }
   ],
   "source": [
    "# plot toy set of feature/target points \n",
    "# (in this example, assume all are in a training set)\n",
    "feature_values = np.array([7.3, 2.2, 4.5, 5.6, 0.1, 8.2, 6.5])\n",
    "target_values = np.array([7.0, 1.9, 2.8, 3.3, 3.1, 6.9, 5.1])\n",
    "plt.scatter(feature_values,target_values,c='r');\n",
    "plt.xlim([0,10])\n",
    "plt.ylim([0,10])\n",
    "plt.xlabel('feature value')\n",
    "plt.ylabel('target value')\n",
    "\n",
    "# if desired, also plot best-fit line (determined using sklearn)\n",
    "# and scatter plot of predicted targets (points along the \n",
    "# best-fit line) with lines to indicate the distances between\n",
    "# the actual target values and predicted target values\n",
    "# also compute/display errors\n",
    "plot_best_fit_line = True\n",
    "if (plot_best_fit_line):\n",
    "    # use sklearn to determine slope/intercept of best-fit line\n",
    "    model_ex = linear_model.LinearRegression()\n",
    "                        # fit() expect an nx1 2D array (1 feature, multiple values)\n",
    "                    # alternatively, you can do .reshape(1, -1) for one sample \n",
    "    fit_ex = model_ex.fit(feature_values.reshape(-1, 1), # n x 1 2D array where n is determined automatically\n",
    "                          target_values)\n",
    "    slope = fit_ex.coef_[0]\n",
    "    intercept = fit_ex.intercept_\n",
    "    print(f'slope: {slope:.2f}')\n",
    "    print(f'intercept: {intercept:.2f}')\n",
    "    \n",
    "    # option to try another line:\n",
    "    #slope=0.5\n",
    "    #intercept=2\n",
    "\n",
    "    # plot best-fit line\n",
    "    x = np.linspace(0,10,2) # only need two points to plot line\n",
    "    y = slope*x + intercept\n",
    "    plt.plot(x,y,'b');\n",
    "\n",
    "    # plot scatter of predictions and display lines \n",
    "    # between targets and predicted targets\n",
    "    target_predictions = slope*feature_values + intercept\n",
    "    plt.scatter(feature_values,target_predictions,c='k');\n",
    "    plt.vlines(feature_values,  # x, ymin, ymax\n",
    "               target_values,\n",
    "               target_predictions);\n",
    "    plt.show()\n",
    "    \n",
    "    # compute/display errors\n",
    "    se = (target_predictions-target_values)**2\n",
    "    display(pd.DataFrame({'feature': feature_values,\n",
    "                          'target': target_values,\n",
    "                          'prediction': target_predictions,\n",
    "                          'dist': np.sqrt(se),\n",
    "                          'squared error': se}))\n",
    "    print(f'SSE: {np.sum(se):.2f}')\n",
    "    print(f'RMSE: {np.sqrt(np.mean(se)):.2f}')"
   ]
  },
  {
   "cell_type": "markdown",
   "metadata": {},
   "source": [
    "### 1D linear regression using one feature from sklearn dataset\n",
    "\n",
    "In the cell below, we extract a single feature from the sklearn dataset chosen previously (either diabetes or boston) and (if the jupyterlab extension for ipywidgets is installed), provide sliders to change the slope/intercept of a candidate line, displaying the line and error metrics. In this way, you can \"mimic\" performing the training process to determine $m$ and $b$ for a best-fit line. (Note, for 1D linear regression, the best parameters can actually be determined via an equation, which you usually learn about in a statistics course.) If the compare_to_sklearn option is checked, we also compute the best-fit line using sklearn and display the associated $m$, $b$, and errors."
   ]
  },
  {
   "cell_type": "code",
   "execution_count": 18,
   "metadata": {},
   "outputs": [
    {
     "data": {
      "application/vnd.jupyter.widget-view+json": {
       "model_id": "d2f23e91009d4353b8bacbb91a8da74a",
       "version_major": 2,
       "version_minor": 0
      },
      "text/plain": [
       "interactive(children=(Dropdown(description='feature', options=('age', 'sex', 'bmi', 'bp', 's1', 's2', 's3', 's…"
      ]
     },
     "metadata": {},
     "output_type": "display_data"
    }
   ],
   "source": [
    "# define default parameters based on dataset chosen previously\n",
    "if (dataset_name == 'boston'):\n",
    "    slope_vals = (-25, 25, .01)\n",
    "    intercept_vals = (-80, 80, 1)\n",
    "else:\n",
    "    slope_vals = (-1500,1500,1)\n",
    "    intercept_vals = (0,300,1)\n",
    "@interact\n",
    "def plot_1D_linear_regression(feature = dataset.feature_names,\n",
    "                              slope = slope_vals,\n",
    "                              intercept = intercept_vals,\n",
    "                              compare_to_sklearn = False):\n",
    "    sns.scatterplot(x=feature,y=\"target\",data=train_df)\n",
    "    x = np.array([train_df[feature].min(), \n",
    "                  train_df[feature].max()])\n",
    "    y = slope*x + intercept\n",
    "    plt.plot(x,y,'r')\n",
    "    plt.ylim(0, train_df['target'].max())\n",
    "    predicted_target = slope*train_df[feature] + intercept\n",
    "    se = (predicted_target - train_df['target'])**2\n",
    "    sse = np.sum(se)\n",
    "    mse = sse/len(predicted_target)\n",
    "    rmse = np.sqrt(mse)\n",
    "    print(f'SSE: {sse:.0f}')\n",
    "    print(f'RMSE: {rmse:.3f}')\n",
    "    \n",
    "    if (compare_to_sklearn):\n",
    "        print('\\nCompare to sklearn: ')\n",
    "        # keep one feature \n",
    "        train_df_limited = train_df[[feature]]\n",
    "        # compute linear regression model with one feature\n",
    "        model_limited = linear_model.LinearRegression()\n",
    "        fit_limited = model_limited.fit(train_df_limited, train_tgt)\n",
    "        print(f'slope: {model_limited.coef_[0]:.2f}')\n",
    "        print(f'intercept: {model_limited.intercept_:.2f}')\n",
    "        # compute RMSE on training data \n",
    "        # (to best mimic what is done during training)\n",
    "        predictions_limited = fit_limited.predict(train_df_limited)\n",
    "        score_limited = np.sqrt(metrics.mean_squared_error(train_tgt,\n",
    "                                                           predictions_limited))\n",
    "        print(f'RMSE: {score_limited:0.3f}')"
   ]
  },
  {
   "cell_type": "markdown",
   "metadata": {},
   "source": [
    "## Example of linear regression with multiple features"
   ]
  },
  {
   "cell_type": "markdown",
   "metadata": {},
   "source": [
    "Towards the beginning of this notebook, we had already trained a linear regression model (in a variable called $model$) using all of the features in either the diabetes dataset or the boston dataset. Below, we look at the trained model more closely by displaying the determined coefficient values (stored in model.coef_) in a table and the intercept (stored in model.intercept_). We also display the corresponding linear regression equation of the form:\n",
    "\n",
    "$y = m_0 f_0 + m_1 f_1 + \\cdots m_{n-1} f_{n-1} + b$\n",
    "\n",
    "where $y$ is the predicted target value, $[f_0, f_1, \\cdots, f_{n-1}]$ are the feature values, $[m_0, m_1, \\cdots, m_{n-1}]$ are the determined coefficients, and $b$ is the determined intercept. "
   ]
  },
  {
   "cell_type": "code",
   "execution_count": 19,
   "metadata": {},
   "outputs": [
    {
     "data": {
      "text/html": [
       "<div>\n",
       "<style scoped>\n",
       "    .dataframe tbody tr th:only-of-type {\n",
       "        vertical-align: middle;\n",
       "    }\n",
       "\n",
       "    .dataframe tbody tr th {\n",
       "        vertical-align: top;\n",
       "    }\n",
       "\n",
       "    .dataframe thead th {\n",
       "        text-align: right;\n",
       "    }\n",
       "</style>\n",
       "<table border=\"1\" class=\"dataframe\">\n",
       "  <thead>\n",
       "    <tr style=\"text-align: right;\">\n",
       "      <th></th>\n",
       "      <th>coefficient</th>\n",
       "      <th>feature</th>\n",
       "    </tr>\n",
       "  </thead>\n",
       "  <tbody>\n",
       "    <tr>\n",
       "      <th>0</th>\n",
       "      <td>-91.700480</td>\n",
       "      <td>age</td>\n",
       "    </tr>\n",
       "    <tr>\n",
       "      <th>1</th>\n",
       "      <td>-299.465458</td>\n",
       "      <td>sex</td>\n",
       "    </tr>\n",
       "    <tr>\n",
       "      <th>2</th>\n",
       "      <td>507.419357</td>\n",
       "      <td>bmi</td>\n",
       "    </tr>\n",
       "    <tr>\n",
       "      <th>3</th>\n",
       "      <td>388.617821</td>\n",
       "      <td>bp</td>\n",
       "    </tr>\n",
       "    <tr>\n",
       "      <th>4</th>\n",
       "      <td>-722.028249</td>\n",
       "      <td>s1</td>\n",
       "    </tr>\n",
       "    <tr>\n",
       "      <th>5</th>\n",
       "      <td>386.258585</td>\n",
       "      <td>s2</td>\n",
       "    </tr>\n",
       "    <tr>\n",
       "      <th>6</th>\n",
       "      <td>131.374469</td>\n",
       "      <td>s3</td>\n",
       "    </tr>\n",
       "    <tr>\n",
       "      <th>7</th>\n",
       "      <td>212.210216</td>\n",
       "      <td>s4</td>\n",
       "    </tr>\n",
       "    <tr>\n",
       "      <th>8</th>\n",
       "      <td>787.881218</td>\n",
       "      <td>s5</td>\n",
       "    </tr>\n",
       "    <tr>\n",
       "      <th>9</th>\n",
       "      <td>36.003512</td>\n",
       "      <td>s6</td>\n",
       "    </tr>\n",
       "  </tbody>\n",
       "</table>\n",
       "</div>"
      ],
      "text/plain": [
       "   coefficient feature\n",
       "0   -91.700480     age\n",
       "1  -299.465458     sex\n",
       "2   507.419357     bmi\n",
       "3   388.617821      bp\n",
       "4  -722.028249      s1\n",
       "5   386.258585      s2\n",
       "6   131.374469      s3\n",
       "7   212.210216      s4\n",
       "8   787.881218      s5\n",
       "9    36.003512      s6"
      ]
     },
     "metadata": {},
     "output_type": "display_data"
    },
    {
     "name": "stdout",
     "output_type": "stream",
     "text": [
      "Intercept: 152.41\n",
      "\n",
      "Predicted Target = -91.70*age\n",
      "                  + -299.47*sex\n",
      "                  + 507.42*bmi\n",
      "                  + 388.62*bp\n",
      "                  + -722.03*s1\n",
      "                  + 386.26*s2\n",
      "                  + 131.37*s3\n",
      "                  + 212.21*s4\n",
      "                  + 787.88*s5\n",
      "                  + 36.00*s6\n",
      "                  + 152.41\n"
     ]
    }
   ],
   "source": [
    "# look more closely at coefficients and intercept\n",
    "#print(model.coef_)\n",
    "display(pd.DataFrame(list(zip(model.coef_,dataset.feature_names)),\n",
    "                     columns = ['coefficient', 'feature']))\n",
    "\n",
    "print(f'Intercept: {model.intercept_:.2f}')\n",
    "\n",
    "# also display corresponding equation\n",
    "print(f'\\nPredicted Target = {model.coef_[0]:.2f}*{dataset.feature_names[0]}')\n",
    "for coeff_value, feature_name in zip(model.coef_[1:], dataset.feature_names[1:]):  # strange format\n",
    "    print(f'                  + {coeff_value:.2f}*{feature_name}')\n",
    "print(f'                  + {model.intercept_:.2f}')"
   ]
  },
  {
   "cell_type": "markdown",
   "metadata": {},
   "source": [
    "## Assignment\n",
    "\n",
    "For your assignment, you will work with the 2019 College Football dataset (as we have used previously) and use linear regression to predict the number of wins from the rushing yards per game, rushing yards per game allowed, pass yards per game and pass yards per game allowed (as we also did in lec08, but using k-NN regression). As in lec08, in the cell below we set up the dataframe and purposely leave out Iowa from the dataset (you do NOT need to modify this cell)."
   ]
  },
  {
   "cell_type": "code",
   "execution_count": 20,
   "metadata": {},
   "outputs": [
    {
     "name": "stdout",
     "output_type": "stream",
     "text": [
      "Rushing Yards per Game         137.6\n",
      "Rush Yards Per Game Allowed    112.5\n",
      "Pass Yards Per Game            228.9\n",
      "Pass Yards Per Game Allowed    195.7\n",
      "Wins                            10.0\n",
      "Name: Iowa (Big Ten), dtype: float64\n"
     ]
    },
    {
     "data": {
      "text/html": [
       "<div>\n",
       "<style scoped>\n",
       "    .dataframe tbody tr th:only-of-type {\n",
       "        vertical-align: middle;\n",
       "    }\n",
       "\n",
       "    .dataframe tbody tr th {\n",
       "        vertical-align: top;\n",
       "    }\n",
       "\n",
       "    .dataframe thead th {\n",
       "        text-align: right;\n",
       "    }\n",
       "</style>\n",
       "<table border=\"1\" class=\"dataframe\">\n",
       "  <thead>\n",
       "    <tr style=\"text-align: right;\">\n",
       "      <th></th>\n",
       "      <th>Rushing Yards per Game</th>\n",
       "      <th>Rush Yards Per Game Allowed</th>\n",
       "      <th>Pass Yards Per Game</th>\n",
       "      <th>Pass Yards Per Game Allowed</th>\n",
       "      <th>Wins</th>\n",
       "    </tr>\n",
       "    <tr>\n",
       "      <th>Team</th>\n",
       "      <th></th>\n",
       "      <th></th>\n",
       "      <th></th>\n",
       "      <th></th>\n",
       "      <th></th>\n",
       "    </tr>\n",
       "  </thead>\n",
       "  <tbody>\n",
       "    <tr>\n",
       "      <th>Air Force (Mountain West)</th>\n",
       "      <td>298.5</td>\n",
       "      <td>100.5</td>\n",
       "      <td>123.2</td>\n",
       "      <td>219.1</td>\n",
       "      <td>11</td>\n",
       "    </tr>\n",
       "    <tr>\n",
       "      <th>Akron (MAC)</th>\n",
       "      <td>47.6</td>\n",
       "      <td>213.5</td>\n",
       "      <td>195.6</td>\n",
       "      <td>200.4</td>\n",
       "      <td>0</td>\n",
       "    </tr>\n",
       "    <tr>\n",
       "      <th>Alabama (SEC)</th>\n",
       "      <td>168.5</td>\n",
       "      <td>137.2</td>\n",
       "      <td>342.2</td>\n",
       "      <td>187.2</td>\n",
       "      <td>11</td>\n",
       "    </tr>\n",
       "    <tr>\n",
       "      <th>Appalachian St. (Sun Belt)</th>\n",
       "      <td>231.4</td>\n",
       "      <td>129.4</td>\n",
       "      <td>201.7</td>\n",
       "      <td>206.7</td>\n",
       "      <td>13</td>\n",
       "    </tr>\n",
       "    <tr>\n",
       "      <th>Arizona (Pac-12)</th>\n",
       "      <td>174.0</td>\n",
       "      <td>181.6</td>\n",
       "      <td>266.1</td>\n",
       "      <td>289.8</td>\n",
       "      <td>4</td>\n",
       "    </tr>\n",
       "  </tbody>\n",
       "</table>\n",
       "</div>"
      ],
      "text/plain": [
       "                            Rushing Yards per Game  \\\n",
       "Team                                                 \n",
       "Air Force (Mountain West)                    298.5   \n",
       "Akron (MAC)                                   47.6   \n",
       "Alabama (SEC)                                168.5   \n",
       "Appalachian St. (Sun Belt)                   231.4   \n",
       "Arizona (Pac-12)                             174.0   \n",
       "\n",
       "                            Rush Yards Per Game Allowed  Pass Yards Per Game  \\\n",
       "Team                                                                           \n",
       "Air Force (Mountain West)                         100.5                123.2   \n",
       "Akron (MAC)                                       213.5                195.6   \n",
       "Alabama (SEC)                                     137.2                342.2   \n",
       "Appalachian St. (Sun Belt)                        129.4                201.7   \n",
       "Arizona (Pac-12)                                  181.6                266.1   \n",
       "\n",
       "                            Pass Yards Per Game Allowed  Wins  \n",
       "Team                                                           \n",
       "Air Force (Mountain West)                         219.1    11  \n",
       "Akron (MAC)                                       200.4     0  \n",
       "Alabama (SEC)                                     187.2    11  \n",
       "Appalachian St. (Sun Belt)                        206.7    13  \n",
       "Arizona (Pac-12)                                  289.8     4  "
      ]
     },
     "metadata": {},
     "output_type": "display_data"
    }
   ],
   "source": [
    "# load 2019 College Football dataset and extract desired information\n",
    "cfb_orig_df = pd.read_csv(\"CFB2019.csv\")\n",
    "# extract bowl eligibility from the Wins-Loss column\n",
    "# first separate Win-Loss into 2D array of Win and Loss strings\n",
    "w_l = np.array([w_l_str.split('-') for w_l_str in cfb_orig_df['Win-Loss']])\n",
    "# extract first column as wins (and convert to integers)\n",
    "wins = w_l[:,0].astype(int)\n",
    "\n",
    "# extract some of the existing columns as a starting point for our smaller dataset\n",
    "cfb_df = cfb_orig_df[['Rushing Yards per Game',\n",
    "                      'Rush Yards Per Game Allowed',\n",
    "                      'Pass Yards Per Game',\n",
    "                      'Pass Yards Per Game Allowed']].copy()\n",
    "# add the wins column\n",
    "cfb_df['Wins'] = wins\n",
    "# make the team column the index labels\n",
    "cfb_df.index = cfb_orig_df['Team']\n",
    "\n",
    "# remove Iowa so that not used for training/testing \n",
    "# (as we will perform a separate prediction later)\n",
    "iowa_values = cfb_df.loc['Iowa (Big Ten)',:]\n",
    "print(iowa_values)\n",
    "cfb_df.drop('Iowa (Big Ten)',inplace=True)\n",
    "\n",
    "# display first five rows\n",
    "display(cfb_df.head())"
   ]
  },
  {
   "cell_type": "markdown",
   "metadata": {},
   "source": [
    "### Part I\n",
    "\n",
    "In the cell below, using the cfb_df created above as the entire dataset, apply sklearn's linear regression model for training/testing (using 30% of the data in cfb_df for testing) and display the resulting root mean squre error (RMSE) on the test set. The target is the number of wins. Hint: this should be extremely similar to what was done in lec08."
   ]
  },
  {
   "cell_type": "code",
   "execution_count": 34,
   "metadata": {
    "deletable": false,
    "nbgrader": {
     "checksum": "6643083978ff6ce1ac0a36f845d53194",
     "grade": true,
     "grade_id": "cell-0410ba4bfdef3302",
     "locked": false,
     "points": 4,
     "schema_version": 1,
     "solution": true
    }
   },
   "outputs": [
    {
     "name": "stdout",
     "output_type": "stream",
     "text": [
      "Model RMSE: 1.63\n"
     ]
    }
   ],
   "source": [
    "# YOUR CODE HERE\n",
    "#raise NotImplementedError()\n",
    "\n",
    "cfb_target = cfb_df['Wins']\n",
    "\n",
    "cfb_features = cfb_df.drop(['Wins'],axis=1)\n",
    "\n",
    "\n",
    "(cfb_train_ftrs, \n",
    " cfb_test_ftrs,\n",
    " cfb_train_tgt, \n",
    " cfb_test_tgt) = skms.train_test_split(cfb_features,\n",
    "                                   cfb_target,\n",
    "                                   test_size=.30)\n",
    "\n",
    "\n",
    "model = linear_model.LinearRegression()\n",
    "\n",
    "\n",
    "fit = model.fit(cfb_train_ftrs, cfb_train_tgt)\n",
    "\n",
    "\n",
    "predictions = fit.predict(cfb_test_ftrs)\n",
    "\n",
    "\n",
    "score = np.sqrt(metrics.mean_squared_error(cfb_test_tgt,\n",
    "                                           predictions))\n",
    "\n",
    "\n",
    "predictions = fit.predict(cfb_test_ftrs)\n",
    "score = np.sqrt(metrics.mean_squared_error(cfb_test_tgt,\n",
    "                                           predictions))\n",
    "print(f'Model RMSE: {score:0.2f}')"
   ]
  },
  {
   "cell_type": "markdown",
   "metadata": {},
   "source": [
    "### Part II\n",
    "\n",
    "Display the resulting coefficients of the linear equation for each feature name (e.g., as a pandas DataFrame table or equation as we did for the diabetes/boston dataset). Also display the intercept. Use the equation (WITHOUT calling fit.predict) to predict/display the number of wins using the Iowa feature values (stored in iowa_values). See lec08 for an example of extracting each of these feature values separately, if desired. Also, recall that you can obtain the feature names in this case with cfb_train_ftrs.columns."
   ]
  },
  {
   "cell_type": "code",
   "execution_count": 58,
   "metadata": {
    "deletable": false,
    "nbgrader": {
     "checksum": "7b5712538aa5ca7ff10d6078e99c5f57",
     "grade": true,
     "grade_id": "cell-a6de066dce3878b0",
     "locked": false,
     "points": 4,
     "schema_version": 1,
     "solution": true
    }
   },
   "outputs": [
    {
     "data": {
      "text/plain": [
       "array([ 0.03080468, -0.03460739,  0.03022551, -0.027335  ])"
      ]
     },
     "metadata": {},
     "output_type": "display_data"
    },
    {
     "name": "stdout",
     "output_type": "stream",
     "text": [
      "0.03080467590021726 is the coefficient for Rushing Yards per Game\n",
      "-0.034607394579700725 is the coefficient for Rush Yards Per Game Allowed\n",
      "0.030225512512047175 is the coefficient for Pass Yards Per Game\n",
      "-0.027335000264605995 is the coefficient for Pass Yards Per Game Allowed\n"
     ]
    },
    {
     "data": {
      "text/html": [
       "<div>\n",
       "<style scoped>\n",
       "    .dataframe tbody tr th:only-of-type {\n",
       "        vertical-align: middle;\n",
       "    }\n",
       "\n",
       "    .dataframe tbody tr th {\n",
       "        vertical-align: top;\n",
       "    }\n",
       "\n",
       "    .dataframe thead th {\n",
       "        text-align: right;\n",
       "    }\n",
       "</style>\n",
       "<table border=\"1\" class=\"dataframe\">\n",
       "  <thead>\n",
       "    <tr style=\"text-align: right;\">\n",
       "      <th></th>\n",
       "      <th>coefficient</th>\n",
       "      <th>feature</th>\n",
       "    </tr>\n",
       "  </thead>\n",
       "  <tbody>\n",
       "    <tr>\n",
       "      <th>0</th>\n",
       "      <td>0.030805</td>\n",
       "      <td>Rushing Yards per Game</td>\n",
       "    </tr>\n",
       "    <tr>\n",
       "      <th>1</th>\n",
       "      <td>-0.034607</td>\n",
       "      <td>Rush Yards Per Game Allowed</td>\n",
       "    </tr>\n",
       "    <tr>\n",
       "      <th>2</th>\n",
       "      <td>0.030226</td>\n",
       "      <td>Pass Yards Per Game</td>\n",
       "    </tr>\n",
       "    <tr>\n",
       "      <th>3</th>\n",
       "      <td>-0.027335</td>\n",
       "      <td>Pass Yards Per Game Allowed</td>\n",
       "    </tr>\n",
       "  </tbody>\n",
       "</table>\n",
       "</div>"
      ],
      "text/plain": [
       "   coefficient                      feature\n",
       "0     0.030805       Rushing Yards per Game\n",
       "1    -0.034607  Rush Yards Per Game Allowed\n",
       "2     0.030226          Pass Yards Per Game\n",
       "3    -0.027335  Pass Yards Per Game Allowed"
      ]
     },
     "metadata": {},
     "output_type": "display_data"
    },
    {
     "name": "stdout",
     "output_type": "stream",
     "text": [
      "Intercept: 6.34\n",
      "\n",
      "Predicted Target = 0.03*Rushing Yards per Game\n",
      "                  + -0.03*Rush Yards Per Game Allowed\n",
      "                  + 0.03*Pass Yards Per Game\n",
      "                  + -0.03*Pass Yards Per Game Allowed\n",
      "                  + 6.34\n"
     ]
    },
    {
     "data": {
      "text/plain": [
       "Rushing Yards per Game         137.6\n",
       "Rush Yards Per Game Allowed    112.5\n",
       "Pass Yards Per Game            228.9\n",
       "Pass Yards Per Game Allowed    195.7\n",
       "Wins                            10.0\n",
       "Name: Iowa (Big Ten), dtype: float64"
      ]
     },
     "metadata": {},
     "output_type": "display_data"
    },
    {
     "name": "stdout",
     "output_type": "stream",
     "text": [
      "8.136227180760429\n"
     ]
    }
   ],
   "source": [
    "# YOUR CODE HERE\n",
    "#raise NotImplementedError()\n",
    "display(fit.coef_)\n",
    "\n",
    "print(fit.coef_[0], \"is the coefficient for Rushing Yards per Game\")\n",
    "print(fit.coef_[1], \"is the coefficient for Rush Yards Per Game Allowed\")\n",
    "print(fit.coef_[2], \"is the coefficient for Pass Yards Per Game\")\n",
    "print(fit.coef_[3], \"is the coefficient for Pass Yards Per Game Allowed\")\n",
    "\n",
    "\n",
    "\n",
    "# other way to do it\n",
    "display(pd.DataFrame(list(zip(model.coef_,cfb_train_ftrs.columns)),\n",
    "                     columns = ['coefficient', 'feature']))\n",
    "\n",
    "print(f'Intercept: {model.intercept_:.2f}')\n",
    "\n",
    "\n",
    "print(f'\\nPredicted Target = {model.coef_[0]:.2f}*{cfb_train_ftrs.columns[0]}')\n",
    "for coeff_value, feature_name in zip(model.coef_[1:], cfb_train_ftrs.columns[1:]):  \n",
    "    print(f'                  + {coeff_value:.2f}*{feature_name}')\n",
    "print(f'                  + {model.intercept_:.2f}')\n",
    "display(iowa_values)\n",
    "\n",
    "iowa_ftrs_df = pd.DataFrame([iowa_values])\n",
    "\n",
    "iowa_predicted_wins = iowa_values['Rushing Yards per Game'] * model.coef_[0] - iowa_values['Rush Yards Per Game Allowed'] * model.coef_[0] + iowa_values['Pass Yards Per Game'] * model.coef_[0] - iowa_values['Pass Yards Per Game Allowed'] * model.coef_[0] + model.intercept_\n",
    "\n",
    "print(iowa_predicted_wins)"
   ]
  },
  {
   "cell_type": "markdown",
   "metadata": {},
   "source": [
    "### Part III\n",
    "\n",
    "Also predict/display the number of wins using the Iowa feature values (stored in iowa_values) by calling the fit.predict function (you should get the same prediction as in Part II).\n",
    "\n",
    "Hint: Remember that fit.predict expects a pd.DataFrame datatype as input, as we had computed in lec08, you would want to create a DataFrame first (with appropriate column names):\n",
    "\n",
    "iowa_ftrs_df = pd.DataFrame([iowa_values])\n",
    "\n",
    "and using something like the following (also see the solution to the lec08 assignment):\n",
    "\n",
    "fit.predict(iowa_ftrs_df)\n",
    "\n",
    "(Also remember that iowa_values also contains win information, so you would need drop this information from your iowa_ftrs_df to only retain the features to use.)"
   ]
  },
  {
   "cell_type": "code",
   "execution_count": 59,
   "metadata": {
    "deletable": false,
    "nbgrader": {
     "checksum": "ea23629a6b8043501bab895ed7443555",
     "grade": true,
     "grade_id": "cell-66d2f2bbd04c947e",
     "locked": false,
     "points": 2,
     "schema_version": 1,
     "solution": true
    }
   },
   "outputs": [
    {
     "data": {
      "text/html": [
       "<div>\n",
       "<style scoped>\n",
       "    .dataframe tbody tr th:only-of-type {\n",
       "        vertical-align: middle;\n",
       "    }\n",
       "\n",
       "    .dataframe tbody tr th {\n",
       "        vertical-align: top;\n",
       "    }\n",
       "\n",
       "    .dataframe thead th {\n",
       "        text-align: right;\n",
       "    }\n",
       "</style>\n",
       "<table border=\"1\" class=\"dataframe\">\n",
       "  <thead>\n",
       "    <tr style=\"text-align: right;\">\n",
       "      <th></th>\n",
       "      <th>Rushing Yards per Game</th>\n",
       "      <th>Rush Yards Per Game Allowed</th>\n",
       "      <th>Pass Yards Per Game</th>\n",
       "      <th>Pass Yards Per Game Allowed</th>\n",
       "      <th>Wins</th>\n",
       "    </tr>\n",
       "  </thead>\n",
       "  <tbody>\n",
       "    <tr>\n",
       "      <th>Iowa (Big Ten)</th>\n",
       "      <td>137.6</td>\n",
       "      <td>112.5</td>\n",
       "      <td>228.9</td>\n",
       "      <td>195.7</td>\n",
       "      <td>10.0</td>\n",
       "    </tr>\n",
       "  </tbody>\n",
       "</table>\n",
       "</div>"
      ],
      "text/plain": [
       "                Rushing Yards per Game  Rush Yards Per Game Allowed  \\\n",
       "Iowa (Big Ten)                   137.6                        112.5   \n",
       "\n",
       "                Pass Yards Per Game  Pass Yards Per Game Allowed  Wins  \n",
       "Iowa (Big Ten)                228.9                        195.7  10.0  "
      ]
     },
     "metadata": {},
     "output_type": "display_data"
    },
    {
     "name": "stdout",
     "output_type": "stream",
     "text": [
      "[8.25486635]\n"
     ]
    }
   ],
   "source": [
    "# YOUR CODE HERE\n",
    "#raise NotImplementedError()\n",
    "iowa_ftrs_df = pd.DataFrame([iowa_values])\n",
    "display(iowa_ftrs_df)\n",
    "iowa_ftrs_df = iowa_ftrs_df.drop(\"Wins\",axis=1)\n",
    "predictions = fit.predict(iowa_ftrs_df)\n",
    "print(predictions)"
   ]
  },
  {
   "cell_type": "code",
   "execution_count": null,
   "metadata": {},
   "outputs": [],
   "source": []
  }
 ],
 "metadata": {
  "kernelspec": {
   "display_name": "Python 3 (ipykernel)",
   "language": "python",
   "name": "python3"
  },
  "language_info": {
   "codemirror_mode": {
    "name": "ipython",
    "version": 3
   },
   "file_extension": ".py",
   "mimetype": "text/x-python",
   "name": "python",
   "nbconvert_exporter": "python",
   "pygments_lexer": "ipython3",
   "version": "3.9.7"
  }
 },
 "nbformat": 4,
 "nbformat_minor": 4
}
