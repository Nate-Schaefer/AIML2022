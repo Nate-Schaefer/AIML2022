{
 "cells": [
  {
   "cell_type": "markdown",
   "metadata": {},
   "source": [
    "Before you turn this problem in, make sure everything runs as expected. First, **restart the kernel** (in the menubar, select Kernel -> Restart) and then **run all cells** (in the menubar, select Cell -> Run All).\n",
    "\n",
    "Make sure you fill in any place that says `YOUR CODE HERE` or \"YOUR ANSWER HERE\", as well as your name and collaborators below:"
   ]
  },
  {
   "cell_type": "code",
   "execution_count": null,
   "metadata": {},
   "outputs": [],
   "source": [
    "NAME = \"Nathan Schaefer\"\n",
    "COLLABORATORS = \"Nick Hageman\""
   ]
  },
  {
   "cell_type": "markdown",
   "metadata": {},
   "source": [
    "---"
   ]
  },
  {
   "cell_type": "markdown",
   "metadata": {},
   "source": [
    "# Introduction to Python (and Technical Background): Part I\n",
    "\n",
    "First, let's import numpy (a package often used in scientific computing in general)"
   ]
  },
  {
   "cell_type": "code",
   "execution_count": 3,
   "metadata": {},
   "outputs": [],
   "source": [
    "import numpy as np\n",
    "# This gets rid of the \"display\" error from VSCode -- ugh.\n",
    "from IPython.display import display"
   ]
  },
  {
   "cell_type": "markdown",
   "metadata": {},
   "source": [
    "## Arrays: Example comparisions of Python with C++ and Matlab\n",
    "\n",
    "### Example 1: summation of elements in an array\n",
    "\n",
    "Below is a piece of C++ code similar to what you would have written in IEC many times for computing the summation of all of the elements in an array:\n",
    "\n",
    "```c++\n",
    "    int data[5] = {2, 15, -4, 6, 9};\n",
    "    int s = 0; // will store summation of all elements\n",
    "    for (int i = 0; i < 5; i++)\n",
    "    {\n",
    "        s  =s + data[i];\n",
    "    }\n",
    "    cout << s << endl;\n",
    "```\n",
    "\n",
    "Below is a similar piece of Matlab code (using more C++-style syntax rather than the Matlab sum function):\n",
    "```matlab\n",
    "    data = [2, 15, -4, 6, 9];\n",
    "    s = 0; % will store summation of all elements\n",
    "    for i = 1:5\n",
    "        s = s + data(i);\n",
    "    end\n",
    "    disp(s);\n",
    "```\n",
    "\n",
    "Below is another piece of Matlab code that does not using an explicit index i (still using more C++-style syntax):\n",
    "```matlab\n",
    "    data = [2, 15, -4, 6, 9];\n",
    "    s = 0; % will store summation of all elements\n",
    "    for d = data\n",
    "        s = s + d;\n",
    "    end\n",
    "    disp(s);\n",
    "```\n",
    "\n",
    "However, below is the more common way to do this in Matlab:\n",
    "```matlab\n",
    "    data = [2, 15, -4, 6, 9];\n",
    "    s = sum(data); % compute summation of all elements\n",
    "    disp(s);\n",
    "```\n",
    "\n",
    "Let's do something similar in Python (using numpy arrays rather than Python lists). \n",
    "\n",
    "One starting option (looking like a mixture of the C++-style and the first Matlab option):"
   ]
  },
  {
   "cell_type": "code",
   "execution_count": null,
   "metadata": {},
   "outputs": [],
   "source": [
    "data = np.array([2, 15, -4, 6, 9])\n",
    "s = 0 # will store summation of all elements\n",
    "for i in range(5): # range(5) is equivalent to range(0, 5) and provides the sequence of numbers 0, 1, 2, 3, and 4\n",
    "    s += data[i]\n",
    "print(s)"
   ]
  },
  {
   "cell_type": "markdown",
   "metadata": {},
   "source": [
    "Here is another option (looking like a mixture of the C++-style and the second Matlab option):"
   ]
  },
  {
   "cell_type": "code",
   "execution_count": null,
   "metadata": {},
   "outputs": [],
   "source": [
    "data = np.array([2, 15, -4, 6, 9])\n",
    "s = 0 # will store summation of all elements\n",
    "for d in data: \n",
    "    s += d\n",
    "print(s)"
   ]
  },
  {
   "cell_type": "markdown",
   "metadata": {},
   "source": [
    "Below is another option using the sum function (looking like the more-common Matlab option):"
   ]
  },
  {
   "cell_type": "code",
   "execution_count": null,
   "metadata": {},
   "outputs": [],
   "source": [
    "data = np.array([2, 15, -4, 6, 9])\n",
    "s = sum(data) # compute summation of all elements\n",
    "print(s)"
   ]
  },
  {
   "cell_type": "markdown",
   "metadata": {},
   "source": [
    "### Example 2: Summation of differences from a constant value\n",
    "\n",
    "Now suppose we want to compute the following:\n",
    "$$ \n",
    "\\sum_{i=0}^4 (data[i] - 10)^2\n",
    "$$\n",
    "\n",
    "In C++, this might look like:\n",
    "```c++\n",
    "    int data[5] = {2, 15, -4, 6, 9};\n",
    "    int ssd = 0;\n",
    "    for (int i = 0; i < 5; i++)\n",
    "    {\n",
    "        ssd += (data[i] - 10)*(data[i] - 10);\n",
    "    }\n",
    "    cout << ssd << endl;\n",
    "```\n",
    "\n",
    "In Matlab, this might look like:\n",
    "```matlab\n",
    "    data = [2, 15, -4, 6, 9];\n",
    "    ssd = sum((data - 10).^2); # recall use of elementwise exponentiation\n",
    "    disp(ssd);\n",
    "```\n",
    "\n",
    "One option for computing this in Python (most like Matlab):"
   ]
  },
  {
   "cell_type": "code",
   "execution_count": null,
   "metadata": {},
   "outputs": [],
   "source": [
    "data = np.array([2, 15, -4, 6, 9])\n",
    "ssd = sum((data-10)**2) # note use of ** rather than ^ (^ is the bitwise OR operator)\n",
    "print(ssd)"
   ]
  },
  {
   "cell_type": "markdown",
   "metadata": {},
   "source": [
    "If you prefer to have it most look like the C++-style, below is another Python option:"
   ]
  },
  {
   "cell_type": "code",
   "execution_count": null,
   "metadata": {},
   "outputs": [],
   "source": [
    "data = np.array([2, 15, -4, 6, 9])\n",
    "ssd = 0\n",
    "for i in range(5):\n",
    "    ssd += (data[i]-10)*(data[i]-10)\n",
    "print(ssd)"
   ]
  },
  {
   "cell_type": "markdown",
   "metadata": {},
   "source": [
    "### Example 3: Weighted sum and dot product\n",
    "\n",
    "Given a data array and an array of weights (each of size 6), suppose we wish to compute the following:\n",
    "$$\n",
    "\\sum_{i=0}^5 data[i]*weights[i]\n",
    "$$\n",
    "\n",
    "Below is how we might do this in C++:\n",
    "```c++\n",
    "    double data[6] = {2.3, 7.8, 4.2, 8.6, 9.2, 7.2};\n",
    "    double weights[6] = {0.1, 0.2, 0.3, 0.5, 0.2, 0.1};\n",
    "    double weighted_sum = 0;\n",
    "    for (int i = 0; i < 6; i++)\n",
    "    {\n",
    "        weighted_sum += data[i]*weights[i];\n",
    "    }\n",
    "    cout << weighted_sum << endl;\n",
    "```\n",
    "\n",
    "Below is how we might do this in Matlab:\n",
    "```matlab\n",
    "    data = [2.3, 7.8, 4.2, 8.6, 9.2, 7.2];\n",
    "    weights = [0.1, 0.2, 0.3, 0.5, 0.2, 0.1];\n",
    "    weighted_sum = sum(data.*weights); % recall use of elementwise multiplication\n",
    "    disp(weighted_sum);\n",
    "```\n",
    "\n",
    "Below is another option in Matlab (recall that elementwise multiplication followed by summation can be computed with a dot product):\n",
    "```matlab\n",
    "    data = [2.3, 7.8, 4.2, 8.6, 9.2, 7.2];\n",
    "    weights = [0.1, 0.2, 0.3, 0.5, 0.2, 0.1];\n",
    "    weighted_sum = dot(data,weights); \n",
    "    disp(weighted_sum);\n",
    "```\n",
    "\n",
    "Below are two Matlab-like-options in Python (first using the sum function and then using the dot product):"
   ]
  },
  {
   "cell_type": "code",
   "execution_count": null,
   "metadata": {},
   "outputs": [],
   "source": [
    "data = np.array([2.3, 7.8, 4.2, 8.6, 9.2, 7.2])\n",
    "weights = np.array([0.1, 0.2, 0.3, 0.5, 0.2, 0.1])\n",
    "weighted_sum = sum(data*weights) # note that python does elementwise multiplication by default for numpy arrays\n",
    "print(weighted_sum)"
   ]
  },
  {
   "cell_type": "code",
   "execution_count": null,
   "metadata": {},
   "outputs": [],
   "source": [
    "data = np.array([2.3, 7.8, 4.2, 8.6, 9.2, 7.2])\n",
    "weights = np.array([0.1, 0.2, 0.3, 0.5, 0.2, 0.1])\n",
    "weighted_sum = np.dot(data,weights) \n",
    "print(weighted_sum)"
   ]
  },
  {
   "cell_type": "markdown",
   "metadata": {},
   "source": [
    "If you prefer, you may also write this using a loop:"
   ]
  },
  {
   "cell_type": "code",
   "execution_count": null,
   "metadata": {},
   "outputs": [],
   "source": [
    "data = np.array([2.3, 7.8, 4.2, 8.6, 9.2, 7.2])\n",
    "weights = np.array([0.1, 0.2, 0.3, 0.5, 0.2, 0.1])\n",
    "weighted_sum = 0\n",
    "for i in range(len(data)): # note: now using len function rather than hard-coding the 6\n",
    "    weighted_sum += data[i]*weights[i]\n",
    "print(weighted_sum)"
   ]
  },
  {
   "cell_type": "markdown",
   "metadata": {},
   "source": [
    "If you still wanted to use a loop, but not use an explicit index, you can use zip to iterate over the two arrays simultaneously:"
   ]
  },
  {
   "cell_type": "code",
   "execution_count": null,
   "metadata": {},
   "outputs": [],
   "source": [
    "data = np.array([2.3, 7.8, 4.2, 8.6, 9.2, 7.2])\n",
    "weights = np.array([0.1, 0.2, 0.3, 0.5, 0.2, 0.1])\n",
    "weighted_sum = 0\n",
    "for data_item,weight in zip(data,weights): # zip returns a tuple\n",
    "    weighted_sum += data_item*weight\n",
    "print(weighted_sum)"
   ]
  },
  {
   "cell_type": "markdown",
   "metadata": {},
   "source": [
    "### Example 4: Summation involving indices and data values\n",
    "\n",
    "Now, given an array of $n$ data values, suppose you wish to compute the following:\n",
    "\n",
    "$$\n",
    "\\sum_{i=0}^{n-1} i*data[i]\n",
    "$$\n",
    "\n",
    "In C++, the code might look something like the following:\n",
    "```c++\n",
    "    double data[6] = {2.3, 7.8, 4.2, 8.6, 9.2, 7.2};\n",
    "    int n = 6;\n",
    "    double total = 0;\n",
    "    for (int i = 0; i < n; i++)\n",
    "    {\n",
    "        total += i*data[i];\n",
    "    }\n",
    "    cout << total << endl;\n",
    "```\n",
    "\n",
    "In Matlab, the code might look something like the following:\n",
    "```matlab\n",
    "    data = [2.3, 7.8, 4.2, 8.6, 9.2, 7.2];\n",
    "    indices = 0:5;\n",
    "    total = sum(indices.*data);\n",
    "    disp(total);\n",
    "```\n",
    "\n",
    "In Python, one option for computing this in a loop would be to use enumerate (which allows you to iterate over items and indices):"
   ]
  },
  {
   "cell_type": "code",
   "execution_count": null,
   "metadata": {},
   "outputs": [],
   "source": [
    "data = np.array([2.3, 7.8, 4.2, 8.6, 9.2, 7.2])\n",
    "total = 0\n",
    "for i, data_item in enumerate(data): # enumerate gives an index value, and the data value\n",
    "    total += i*data_item             # does i start at 1, or 0?\n",
    "    print(\"i = \",i)\n",
    "print(total)"
   ]
  },
  {
   "cell_type": "markdown",
   "metadata": {},
   "source": [
    "In this case, you could still use the range option (but the above is often preferred):"
   ]
  },
  {
   "cell_type": "code",
   "execution_count": null,
   "metadata": {},
   "outputs": [],
   "source": [
    "data = np.array([2.3, 7.8, 4.2, 8.6, 9.2, 7.2])\n",
    "total = 0\n",
    "for i in range(len(data)): \n",
    "    total += i*data[i]\n",
    "    print(\"i=\",i)\n",
    "print(total)"
   ]
  },
  {
   "cell_type": "markdown",
   "metadata": {},
   "source": [
    "## Assignment\n",
    "\n",
    "For this problem, we will assume we have a list of items we want to consider purchasing at Fareway or Costco (and have stored their names in a Python list) and a list of the names of the units (e.g., 'oz') for which the item is sold. We also have a numpy array to store the prices at Fareway, a numpy array to store the unit values at Fareway, a numpy array to store the prices at Costco, and a numpy array to store the unit values at Costco:\n",
    "* items[i]: name of item i\n",
    "* unit_names[i]: unit name of item i (e.g., 'oz')\n",
    "* prices_fareway[i]: price of item i at Fareway for the units specified in unit_value_fareway[i] and unit_name[i]\n",
    "* unit_values_fareway[i]: number of units of item i at Fareway (e.g., the 10.8 in 10.8 oz)\n",
    "* prices_costco[i]: price of item i at Costco for the units specified in unit_value_costco[i] and unit_name[i]\n",
    "* unit_values_costco[i]: number of units of item i at Costco (e.g., the 55 in 55 oz)\n",
    "\n",
    "Below is the data we will assume to have available for the assignment that follows. We have also provided example of printing all of the items and their costs/quantities in a table. "
   ]
  },
  {
   "cell_type": "code",
   "execution_count": 8,
   "metadata": {
    "deletable": false,
    "editable": false,
    "nbgrader": {
     "checksum": "c346dea313c4faff48895ab107269775",
     "grade": false,
     "grade_id": "cell-ece1bbc3a63a4a44",
     "locked": true,
     "schema_version": 1,
     "solution": false
    }
   },
   "outputs": [
    {
     "data": {
      "text/html": [
       "<div>\n",
       "<style scoped>\n",
       "    .dataframe tbody tr th:only-of-type {\n",
       "        vertical-align: middle;\n",
       "    }\n",
       "\n",
       "    .dataframe tbody tr th {\n",
       "        vertical-align: top;\n",
       "    }\n",
       "\n",
       "    .dataframe thead th {\n",
       "        text-align: right;\n",
       "    }\n",
       "</style>\n",
       "<table border=\"1\" class=\"dataframe\">\n",
       "  <thead>\n",
       "    <tr style=\"text-align: right;\">\n",
       "      <th></th>\n",
       "      <th>items</th>\n",
       "      <th>unit_names</th>\n",
       "      <th>prices_fareway</th>\n",
       "      <th>unit_values_fareway</th>\n",
       "      <th>prices_costco</th>\n",
       "      <th>unit_values_costco</th>\n",
       "    </tr>\n",
       "  </thead>\n",
       "  <tbody>\n",
       "    <tr>\n",
       "      <th>0</th>\n",
       "      <td>applesauce_cup</td>\n",
       "      <td>ct</td>\n",
       "      <td>2.79</td>\n",
       "      <td>4.0</td>\n",
       "      <td>9.89</td>\n",
       "      <td>24.0</td>\n",
       "    </tr>\n",
       "    <tr>\n",
       "      <th>1</th>\n",
       "      <td>bananas</td>\n",
       "      <td>lbs</td>\n",
       "      <td>1.77</td>\n",
       "      <td>3.0</td>\n",
       "      <td>1.49</td>\n",
       "      <td>3.0</td>\n",
       "    </tr>\n",
       "    <tr>\n",
       "      <th>2</th>\n",
       "      <td>cheerios</td>\n",
       "      <td>oz</td>\n",
       "      <td>2.67</td>\n",
       "      <td>10.8</td>\n",
       "      <td>7.99</td>\n",
       "      <td>55.0</td>\n",
       "    </tr>\n",
       "    <tr>\n",
       "      <th>3</th>\n",
       "      <td>cheese_shredded</td>\n",
       "      <td>oz</td>\n",
       "      <td>2.0</td>\n",
       "      <td>8.0</td>\n",
       "      <td>10.99</td>\n",
       "      <td>48.0</td>\n",
       "    </tr>\n",
       "    <tr>\n",
       "      <th>4</th>\n",
       "      <td>cookies_pepperidge_farm_milano</td>\n",
       "      <td>oz</td>\n",
       "      <td>1.88</td>\n",
       "      <td>6.0</td>\n",
       "      <td>8.99</td>\n",
       "      <td>22.5</td>\n",
       "    </tr>\n",
       "    <tr>\n",
       "      <th>5</th>\n",
       "      <td>crackers_graham</td>\n",
       "      <td>oz</td>\n",
       "      <td>3.29</td>\n",
       "      <td>14.4</td>\n",
       "      <td>7.99</td>\n",
       "      <td>57.6</td>\n",
       "    </tr>\n",
       "    <tr>\n",
       "      <th>6</th>\n",
       "      <td>eggs_organic</td>\n",
       "      <td>ct</td>\n",
       "      <td>4.89</td>\n",
       "      <td>12.0</td>\n",
       "      <td>6.39</td>\n",
       "      <td>24.0</td>\n",
       "    </tr>\n",
       "    <tr>\n",
       "      <th>7</th>\n",
       "      <td>oatmeal</td>\n",
       "      <td>oz</td>\n",
       "      <td>4.79</td>\n",
       "      <td>42.0</td>\n",
       "      <td>8.29</td>\n",
       "      <td>160.0</td>\n",
       "    </tr>\n",
       "  </tbody>\n",
       "</table>\n",
       "</div>"
      ],
      "text/plain": [
       "                            items unit_names prices_fareway  \\\n",
       "0                  applesauce_cup         ct           2.79   \n",
       "1                         bananas        lbs           1.77   \n",
       "2                        cheerios         oz           2.67   \n",
       "3                 cheese_shredded         oz            2.0   \n",
       "4  cookies_pepperidge_farm_milano         oz           1.88   \n",
       "5                 crackers_graham         oz           3.29   \n",
       "6                    eggs_organic         ct           4.89   \n",
       "7                         oatmeal         oz           4.79   \n",
       "\n",
       "  unit_values_fareway prices_costco unit_values_costco  \n",
       "0                 4.0          9.89               24.0  \n",
       "1                 3.0          1.49                3.0  \n",
       "2                10.8          7.99               55.0  \n",
       "3                 8.0         10.99               48.0  \n",
       "4                 6.0          8.99               22.5  \n",
       "5                14.4          7.99               57.6  \n",
       "6                12.0          6.39               24.0  \n",
       "7                42.0          8.29              160.0  "
      ]
     },
     "metadata": {},
     "output_type": "display_data"
    }
   ],
   "source": [
    "# list of items and unit names\n",
    "items = ['applesauce_cup', \n",
    "         'bananas', \n",
    "         'cheerios', \n",
    "         'cheese_shredded', \n",
    "         'cookies_pepperidge_farm_milano', \n",
    "         'crackers_graham', \n",
    "         'eggs_organic', \n",
    "         'oatmeal']\n",
    "unit_names = ['ct','lbs','oz','oz','oz','oz','ct','oz']\n",
    "\n",
    "# arrays of prices and unit values\n",
    "prices_fareway = np.array([2.79, # applesauce_cup\n",
    "                         1.77, # bananas\n",
    "                         2.67, # cheerios\n",
    "                         2.00, # cheese_shredded\n",
    "                         1.88, # cookies_pepperidge_farm_milano\n",
    "                         3.29, # crackers_graham\n",
    "                         4.89, # eggs_organic\n",
    "                         4.79  # oatmeal\n",
    "                              ])\n",
    "unit_values_fareway = np.array([4, # applesauce_cup\n",
    "                              3, # bananas\n",
    "                              10.8, # cheerios\n",
    "                              8, # cheese_shredded\n",
    "                              6, # cookies_pepperidge_farm_milano\n",
    "                              14.4, # crackers_graham\n",
    "                              12, # eggs_organic\n",
    "                              42  # oatmeal\n",
    "                            ])\n",
    "\n",
    "prices_costco = np.array([9.89, # applesauce_cup\n",
    "                         1.49, # bananas\n",
    "                         7.99, # cheerios\n",
    "                         10.99, # cheese_shredded\n",
    "                         8.99, # cookies_pepperidge_farm_milano\n",
    "                         7.99, # crackers_graham\n",
    "                         6.39, # eggs_organic\n",
    "                         8.29  # oatmeal\n",
    "                              ])\n",
    "unit_values_costco = np.array([24, # applesauce_cup\n",
    "                              3, # bananas\n",
    "                              55, # cheerios\n",
    "                              48, # cheese_shredded\n",
    "                              22.5, # cookies_pepperidge_farm_milano\n",
    "                              57.6, # crackers_graham\n",
    "                              24, # eggs_organic\n",
    "                              160  # oatmeal\n",
    "                            ])\n",
    "\n",
    "# import pandas to be able to display in nice-looking table\n",
    "import pandas as pd\n",
    "# my_columns = ['Item', 'Unit Name', 'Fareway Price', 'Units', 'Costco Price', 'Units']\n",
    "my_columns = ['items', 'unit_names', 'prices_fareway', 'unit_values_fareway', 'prices_costco', 'unit_values_costco']\n",
    "display(pd.DataFrame(np.column_stack([items, unit_names, prices_fareway, unit_values_fareway, prices_costco, unit_values_costco]),\n",
    "                     columns=my_columns))"
   ]
  },
  {
   "cell_type": "markdown",
   "metadata": {},
   "source": [
    "### Step 1.\n",
    "\n",
    "Compute the total cost at each store (Fareway and Costco) if purchased items in the unit values as given (you should get \\\\$24.08 for Fareway and \\\\$62.02 for Costco). "
   ]
  },
  {
   "cell_type": "code",
   "execution_count": 13,
   "metadata": {
    "deletable": false,
    "nbgrader": {
     "checksum": "e628dd2ef04fbbf51ddb054b3273972c",
     "grade": false,
     "grade_id": "cell-2bc239f6ab89422f",
     "locked": false,
     "schema_version": 1,
     "solution": true
    }
   },
   "outputs": [
    {
     "name": "stdout",
     "output_type": "stream",
     "text": [
      "24.08\n",
      "62.02\n"
     ]
    }
   ],
   "source": [
    "# replace the 0 in the following lines with your solution (keep the variable names the same)\n",
    "fareway_total_cost = sum(prices_fareway)\n",
    "costco_total_cost = sum(prices_costco)\n",
    "# YOUR CODE HERE\n",
    "# raise NotImplementedError()\n",
    "# compute summation of all elements\n",
    "print(fareway_total_cost)\n",
    "print(costco_total_cost)"
   ]
  },
  {
   "cell_type": "code",
   "execution_count": 12,
   "metadata": {
    "deletable": false,
    "editable": false,
    "nbgrader": {
     "checksum": "5d191faf63ec107222d23f04b48c829f",
     "grade": true,
     "grade_id": "cell-0fa895334cb04f37",
     "locked": true,
     "points": 2,
     "schema_version": 1,
     "solution": false
    }
   },
   "outputs": [],
   "source": [
    "# check your answer:\n",
    "import pytest\n",
    "assert fareway_total_cost == pytest.approx(24.08)\n",
    "assert costco_total_cost == pytest.approx(62.02)"
   ]
  },
  {
   "cell_type": "markdown",
   "metadata": {},
   "source": [
    "### Step 2.\n",
    "\n",
    "Compute two new arrays: a Fareway price/unit array and a Costco price/unit array."
   ]
  },
  {
   "cell_type": "code",
   "execution_count": 16,
   "metadata": {
    "deletable": false,
    "nbgrader": {
     "checksum": "6208110a254c22166039889961d17a6f",
     "grade": true,
     "grade_id": "cell-d898ca3f334dad12",
     "locked": false,
     "points": 2,
     "schema_version": 1,
     "solution": true
    }
   },
   "outputs": [
    {
     "name": "stdout",
     "output_type": "stream",
     "text": [
      "[0.6975     0.59       0.24722222 0.25       0.31333333 0.22847222\n",
      " 0.4075     0.11404762]\n",
      "[0.41208333 0.49666667 0.14527273 0.22895833 0.39955556 0.13871528\n",
      " 0.26625    0.0518125 ]\n"
     ]
    },
    {
     "data": {
      "text/html": [
       "<div>\n",
       "<style scoped>\n",
       "    .dataframe tbody tr th:only-of-type {\n",
       "        vertical-align: middle;\n",
       "    }\n",
       "\n",
       "    .dataframe tbody tr th {\n",
       "        vertical-align: top;\n",
       "    }\n",
       "\n",
       "    .dataframe thead th {\n",
       "        text-align: right;\n",
       "    }\n",
       "</style>\n",
       "<table border=\"1\" class=\"dataframe\">\n",
       "  <thead>\n",
       "    <tr style=\"text-align: right;\">\n",
       "      <th></th>\n",
       "      <th>Item</th>\n",
       "      <th>Unit Name</th>\n",
       "      <th>Fareway Price</th>\n",
       "      <th>Units</th>\n",
       "      <th>Fareway Price/Unit</th>\n",
       "      <th>Costco Price</th>\n",
       "      <th>Units</th>\n",
       "      <th>Costco Price/Unit</th>\n",
       "    </tr>\n",
       "  </thead>\n",
       "  <tbody>\n",
       "    <tr>\n",
       "      <th>0</th>\n",
       "      <td>applesauce_cup</td>\n",
       "      <td>ct</td>\n",
       "      <td>2.79</td>\n",
       "      <td>4.0</td>\n",
       "      <td>0.7</td>\n",
       "      <td>9.89</td>\n",
       "      <td>24.0</td>\n",
       "      <td>0.41</td>\n",
       "    </tr>\n",
       "    <tr>\n",
       "      <th>1</th>\n",
       "      <td>bananas</td>\n",
       "      <td>lbs</td>\n",
       "      <td>1.77</td>\n",
       "      <td>3.0</td>\n",
       "      <td>0.59</td>\n",
       "      <td>1.49</td>\n",
       "      <td>3.0</td>\n",
       "      <td>0.5</td>\n",
       "    </tr>\n",
       "    <tr>\n",
       "      <th>2</th>\n",
       "      <td>cheerios</td>\n",
       "      <td>oz</td>\n",
       "      <td>2.67</td>\n",
       "      <td>10.8</td>\n",
       "      <td>0.25</td>\n",
       "      <td>7.99</td>\n",
       "      <td>55.0</td>\n",
       "      <td>0.15</td>\n",
       "    </tr>\n",
       "    <tr>\n",
       "      <th>3</th>\n",
       "      <td>cheese_shredded</td>\n",
       "      <td>oz</td>\n",
       "      <td>2.0</td>\n",
       "      <td>8.0</td>\n",
       "      <td>0.25</td>\n",
       "      <td>10.99</td>\n",
       "      <td>48.0</td>\n",
       "      <td>0.23</td>\n",
       "    </tr>\n",
       "    <tr>\n",
       "      <th>4</th>\n",
       "      <td>cookies_pepperidge_farm_milano</td>\n",
       "      <td>oz</td>\n",
       "      <td>1.88</td>\n",
       "      <td>6.0</td>\n",
       "      <td>0.31</td>\n",
       "      <td>8.99</td>\n",
       "      <td>22.5</td>\n",
       "      <td>0.4</td>\n",
       "    </tr>\n",
       "    <tr>\n",
       "      <th>5</th>\n",
       "      <td>crackers_graham</td>\n",
       "      <td>oz</td>\n",
       "      <td>3.29</td>\n",
       "      <td>14.4</td>\n",
       "      <td>0.23</td>\n",
       "      <td>7.99</td>\n",
       "      <td>57.6</td>\n",
       "      <td>0.14</td>\n",
       "    </tr>\n",
       "    <tr>\n",
       "      <th>6</th>\n",
       "      <td>eggs_organic</td>\n",
       "      <td>ct</td>\n",
       "      <td>4.89</td>\n",
       "      <td>12.0</td>\n",
       "      <td>0.41</td>\n",
       "      <td>6.39</td>\n",
       "      <td>24.0</td>\n",
       "      <td>0.27</td>\n",
       "    </tr>\n",
       "    <tr>\n",
       "      <th>7</th>\n",
       "      <td>oatmeal</td>\n",
       "      <td>oz</td>\n",
       "      <td>4.79</td>\n",
       "      <td>42.0</td>\n",
       "      <td>0.11</td>\n",
       "      <td>8.29</td>\n",
       "      <td>160.0</td>\n",
       "      <td>0.05</td>\n",
       "    </tr>\n",
       "  </tbody>\n",
       "</table>\n",
       "</div>"
      ],
      "text/plain": [
       "                             Item Unit Name Fareway Price Units  \\\n",
       "0                  applesauce_cup        ct          2.79   4.0   \n",
       "1                         bananas       lbs          1.77   3.0   \n",
       "2                        cheerios        oz          2.67  10.8   \n",
       "3                 cheese_shredded        oz           2.0   8.0   \n",
       "4  cookies_pepperidge_farm_milano        oz          1.88   6.0   \n",
       "5                 crackers_graham        oz          3.29  14.4   \n",
       "6                    eggs_organic        ct          4.89  12.0   \n",
       "7                         oatmeal        oz          4.79  42.0   \n",
       "\n",
       "  Fareway Price/Unit Costco Price  Units Costco Price/Unit  \n",
       "0                0.7         9.89   24.0              0.41  \n",
       "1               0.59         1.49    3.0               0.5  \n",
       "2               0.25         7.99   55.0              0.15  \n",
       "3               0.25        10.99   48.0              0.23  \n",
       "4               0.31         8.99   22.5               0.4  \n",
       "5               0.23         7.99   57.6              0.14  \n",
       "6               0.41         6.39   24.0              0.27  \n",
       "7               0.11         8.29  160.0              0.05  "
      ]
     },
     "metadata": {},
     "output_type": "display_data"
    }
   ],
   "source": [
    "# replace the following two lines with your solution (keep the same variable names)\n",
    "fareway_price_per_unit = np.array(prices_fareway / unit_values_fareway)\n",
    "costco_price_per_unit = np.array(prices_costco / unit_values_costco)\n",
    "\n",
    "\n",
    "# YOUR CODE HERE\n",
    "# raise NotImplementedError()\n",
    "print(fareway_price_per_unit)\n",
    "print(costco_price_per_unit)\n",
    "# code to update table\n",
    "columns = ['Item', 'Unit Name', 'Fareway Price', 'Units', 'Fareway Price/Unit', 'Costco Price', 'Units', 'Costco Price/Unit']\n",
    "display(pd.DataFrame(np.column_stack([items, unit_names, prices_fareway, unit_values_fareway, np.round(fareway_price_per_unit, decimals = 2), \n",
    "                                                         prices_costco, unit_values_costco, np.round(costco_price_per_unit, decimals = 2)]),\n",
    "                     columns=columns))"
   ]
  },
  {
   "cell_type": "markdown",
   "metadata": {},
   "source": [
    "### Step 3.\n",
    "\n",
    "Display the names of the item(s) for which the Fareway value is better (i.e., the price per unit is lower). (You will actually only find one item.) Hint: Consider using a for loop to compare the price-per-unit values (with range or zip). In any iteration where the Fareway value is lower, display the item. (If you are experienced with Python, there are other options as well, such as use of list comprehensions: see, for example, https://docs.python.org/3/tutorial/datastructures.html.)\n",
    "\n",
    "Aside: Example syntax for an if statement (also refer to the Python documentation: https://docs.python.org/3/tutorial/controlflow.html):\n",
    "```python\n",
    "    a = 5\n",
    "    b = 2\n",
    "    if (a > b):\n",
    "        print ('a is larger')\n",
    "    else:\n",
    "        print ('a is not larger')\n",
    "```\n"
   ]
  },
  {
   "cell_type": "code",
   "execution_count": 24,
   "metadata": {
    "deletable": false,
    "nbgrader": {
     "checksum": "b6ec8d5b3bed7e2d1580cfd9b53a8efc",
     "grade": true,
     "grade_id": "cell-11ccab2ec473643c",
     "locked": false,
     "points": 3,
     "schema_version": 1,
     "solution": true
    }
   },
   "outputs": [
    {
     "name": "stdout",
     "output_type": "stream",
     "text": [
      "Item(s) with a better value at Fareway: \n",
      "cookies_pepperidge_farm_milano\n"
     ]
    }
   ],
   "source": [
    "print (\"Item(s) with a better value at Fareway: \")\n",
    "# YOUR CODE HERE\n",
    "# raise NotImplementedError()\n",
    "for i in range(len(fareway_price_per_unit)):\n",
    "     if fareway_price_per_unit[i] < costco_price_per_unit[i]:\n",
    "           print(items[i])"
   ]
  },
  {
   "cell_type": "markdown",
   "metadata": {},
   "source": [
    "### Step 4.\n",
    "\n",
    "While Costco often has unit values that are larger than those at Fareway (because you by more of an item), for purposes of comparison, let us pretend like we could purchase items at Costco with the same unit values as those at Fareway. For example, instead of purchasing 24 applesauce cups for \\\\$9.89, let us suppose that we can purchase 4 applesauce cups for \\\\$1.65 (the price per unit cost (\\\\$9.89/24) times the 4 cups). We will call this the \"costco-equivalent\" price for the item (Fareway unit values; Costco prices). In this step, you should compute the costco-equivalent prices for all of the items and compute/display the total (you should get \\\\$16.30). You should then display the amount you would save by purchasing the items at Costco (you should get \\\\$7.78). (You may use any of the arrays already computed above.)"
   ]
  },
  {
   "cell_type": "code",
   "execution_count": 29,
   "metadata": {
    "deletable": false,
    "nbgrader": {
     "checksum": "a2224e1c48f67621af3c2eb21374a4ea",
     "grade": true,
     "grade_id": "cell-a1ce78c67b44ea0f",
     "locked": false,
     "points": 3,
     "schema_version": 1,
     "solution": true
    }
   },
   "outputs": [
    {
     "name": "stdout",
     "output_type": "stream",
     "text": [
      "Recall Fareway total: $24.08\n",
      "16.30490378787879\n",
      "7.775096212121209\n"
     ]
    }
   ],
   "source": [
    "print(f'Recall Fareway total: ${fareway_total_cost:.2f}')\n",
    "# YOUR CODE HERE\n",
    "\n",
    "# raise NotImplementedError()\n",
    "costco_as_fareway_total_cost = 0\n",
    "for i in range(len(costco_price_per_unit)): \n",
    "    costco_as_fareway_total_cost += unit_values_fareway[i]*costco_price_per_unit[i]\n",
    "print(costco_as_fareway_total_cost)\n",
    "\n",
    "print(fareway_total_cost - costco_as_fareway_total_cost)\n"
   ]
  }
 ],
 "metadata": {
  "kernelspec": {
   "display_name": "Python 3",
   "language": "python",
   "name": "python3"
  },
  "language_info": {
   "codemirror_mode": {
    "name": "ipython",
    "version": 3
   },
   "file_extension": ".py",
   "mimetype": "text/x-python",
   "name": "python",
   "nbconvert_exporter": "python",
   "pygments_lexer": "ipython3",
   "version": "3.9.7"
  }
 },
 "nbformat": 4,
 "nbformat_minor": 4
}
